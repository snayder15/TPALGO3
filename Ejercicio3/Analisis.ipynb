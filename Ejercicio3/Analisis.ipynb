{
 "cells": [
  {
   "cell_type": "code",
   "execution_count": 1,
   "metadata": {
    "collapsed": true
   },
   "outputs": [],
   "source": [
    "import pandas as pd\n",
    "import seaborn as sns\n",
    "import matplotlib.pyplot as plt\n",
    "import numpy as np\n",
    "import random\n",
    "import math"
   ]
  },
  {
   "cell_type": "markdown",
   "metadata": {},
   "source": [
    "##Leyendo el archivo de entrada"
   ]
  },
  {
   "cell_type": "code",
   "execution_count": 3,
   "metadata": {},
   "outputs": [
    {
     "data": {
      "text/html": [
       "<div>\n",
       "<table border=\"1\" class=\"dataframe\">\n",
       "  <thead>\n",
       "    <tr style=\"text-align: right;\">\n",
       "      <th></th>\n",
       "      <th>ciudades</th>\n",
       "      <th>tiempo</th>\n",
       "      <th>costo</th>\n",
       "      <th>tamanio solucion</th>\n",
       "      <th>solucion</th>\n",
       "      <th>Unnamed: 5</th>\n",
       "    </tr>\n",
       "  </thead>\n",
       "  <tbody>\n",
       "    <tr>\n",
       "      <th>0</th>\n",
       "      <td>5</td>\n",
       "      <td>13620</td>\n",
       "      <td>9</td>\n",
       "      <td>4</td>\n",
       "      <td>(1,3) (1,2) (0,3) (2,4)</td>\n",
       "      <td>NaN</td>\n",
       "    </tr>\n",
       "    <tr>\n",
       "      <th>1</th>\n",
       "      <td>5</td>\n",
       "      <td>12922</td>\n",
       "      <td>31</td>\n",
       "      <td>3</td>\n",
       "      <td>(0,2) (1,4) (0,4)</td>\n",
       "      <td>NaN</td>\n",
       "    </tr>\n",
       "    <tr>\n",
       "      <th>2</th>\n",
       "      <td>5</td>\n",
       "      <td>13411</td>\n",
       "      <td>10</td>\n",
       "      <td>4</td>\n",
       "      <td>(0,3) (2,4) (1,4) (1,3)</td>\n",
       "      <td>NaN</td>\n",
       "    </tr>\n",
       "    <tr>\n",
       "      <th>3</th>\n",
       "      <td>5</td>\n",
       "      <td>12852</td>\n",
       "      <td>18</td>\n",
       "      <td>4</td>\n",
       "      <td>(0,2) (3,4) (0,4) (1,3)</td>\n",
       "      <td>NaN</td>\n",
       "    </tr>\n",
       "    <tr>\n",
       "      <th>4</th>\n",
       "      <td>5</td>\n",
       "      <td>13551</td>\n",
       "      <td>12</td>\n",
       "      <td>4</td>\n",
       "      <td>(0,3) (0,1) (2,4) (3,4)</td>\n",
       "      <td>NaN</td>\n",
       "    </tr>\n",
       "  </tbody>\n",
       "</table>\n",
       "</div>"
      ],
      "text/plain": [
       "   ciudades  tiempo  costo  tamanio solucion                 solucion  \\\n",
       "0         5   13620      9                 4  (1,3) (1,2) (0,3) (2,4)   \n",
       "1         5   12922     31                 3        (0,2) (1,4) (0,4)   \n",
       "2         5   13411     10                 4  (0,3) (2,4) (1,4) (1,3)   \n",
       "3         5   12852     18                 4  (0,2) (3,4) (0,4) (1,3)   \n",
       "4         5   13551     12                 4  (0,3) (0,1) (2,4) (3,4)   \n",
       "\n",
       "   Unnamed: 5  \n",
       "0         NaN  \n",
       "1         NaN  \n",
       "2         NaN  \n",
       "3         NaN  \n",
       "4         NaN  "
      ]
     },
     "execution_count": 3,
     "metadata": {},
     "output_type": "execute_result"
    }
   ],
   "source": [
    "dataset=\"emi3.dat\"\n",
    "ejercicio3 = pd.read_csv(dataset,delimiter=\";\")\n",
    "ejercicio3.head()"
   ]
  },
  {
   "cell_type": "markdown",
   "metadata": {},
   "source": [
    "##Comparando con funciones exponenciales"
   ]
  },
  {
   "cell_type": "code",
   "execution_count": 4,
   "metadata": {
    "collapsed": true
   },
   "outputs": [],
   "source": [
    "data=ejercicio3\n",
    "df3 = pd.DataFrame()\n",
    "nodos=data.ciudades\n",
    "df3['Nodos'] = nodos\n",
    "df3['Tiempos'] = data['tiempo']\n",
    "df3['Complejidad (n^2*log(n))'] = [100+random.normalvariate((n**2)*math.log(n),50) for n in nodos]\n",
    "#plt.clf()\n",
    "correlation = df3.corr()\n",
    "sns.jointplot(df3['Complejidad (n^2*log(n))'], df3['Tiempos'], kind=\"reg\")\n",
    "sns.plt.show()"
   ]
  },
  {
   "cell_type": "code",
   "execution_count": 7,
   "metadata": {},
   "outputs": [
    {
     "data": {
      "text/html": [
       "<div>\n",
       "<table border=\"1\" class=\"dataframe\">\n",
       "  <thead>\n",
       "    <tr style=\"text-align: right;\">\n",
       "      <th></th>\n",
       "      <th>ciudades</th>\n",
       "      <th>tiempo</th>\n",
       "    </tr>\n",
       "    <tr>\n",
       "      <th>ciudades</th>\n",
       "      <th></th>\n",
       "      <th></th>\n",
       "    </tr>\n",
       "  </thead>\n",
       "  <tbody>\n",
       "    <tr>\n",
       "      <th>5</th>\n",
       "      <td>5.0</td>\n",
       "      <td>14705.650</td>\n",
       "    </tr>\n",
       "    <tr>\n",
       "      <th>10</th>\n",
       "      <td>10.0</td>\n",
       "      <td>41381.770</td>\n",
       "    </tr>\n",
       "    <tr>\n",
       "      <th>15</th>\n",
       "      <td>15.0</td>\n",
       "      <td>83365.150</td>\n",
       "    </tr>\n",
       "    <tr>\n",
       "      <th>20</th>\n",
       "      <td>20.0</td>\n",
       "      <td>148783.890</td>\n",
       "    </tr>\n",
       "    <tr>\n",
       "      <th>25</th>\n",
       "      <td>25.0</td>\n",
       "      <td>229592.875</td>\n",
       "    </tr>\n",
       "  </tbody>\n",
       "</table>\n",
       "</div>"
      ],
      "text/plain": [
       "          ciudades      tiempo\n",
       "ciudades                      \n",
       "5              5.0   14705.650\n",
       "10            10.0   41381.770\n",
       "15            15.0   83365.150\n",
       "20            20.0  148783.890\n",
       "25            25.0  229592.875"
      ]
     },
     "execution_count": 7,
     "metadata": {},
     "output_type": "execute_result"
    }
   ],
   "source": [
    "agrupar_por_n = pd.DataFrame()\n",
    "agrupar_por_n = ejercicio3[['ciudades','tiempo']].groupby(ejercicio3['ciudades']).mean()\n",
    "agrupar_por_n.head()"
   ]
  },
  {
   "cell_type": "code",
   "execution_count": 11,
   "metadata": {},
   "outputs": [],
   "source": [
    "agrupar_por_n['sqrt']=agrupar_por_n.tiempo.apply(math.sqrt)\n",
    "agrupar_por_n['complejidad']=agrupar_por_n.ciudades.apply(lambda x:((x**2)*math.log(x)))\n",
    "agrupar_por_n.head()\n",
    "ax=agrupar_por_n.plot(x='complejidad', y='tiempo')\n",
    "ax.set_xlabel(\"ciudades\",fontsize=12)\n",
    "ax.set_ylabel(\"Tiempos en ns\",fontsize=12)\n",
    "plt.show()"
   ]
  },
  {
   "cell_type": "code",
   "execution_count": null,
   "metadata": {
    "collapsed": true
   },
   "outputs": [],
   "source": []
  }
 ],
 "metadata": {
  "kernelspec": {
   "display_name": "Python 2",
   "language": "python",
   "name": "python2"
  },
  "language_info": {
   "codemirror_mode": {
    "name": "ipython",
    "version": 2
   },
   "file_extension": ".py",
   "mimetype": "text/x-python",
   "name": "python",
   "nbconvert_exporter": "python",
   "pygments_lexer": "ipython2",
   "version": "2.7.9"
  }
 },
 "nbformat": 4,
 "nbformat_minor": 2
}
