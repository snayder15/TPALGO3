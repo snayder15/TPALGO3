{
 "cells": [
  {
   "cell_type": "code",
   "execution_count": 3,
   "metadata": {
    "collapsed": true
   },
   "outputs": [],
   "source": [
    "import pandas as pd\n",
    "import seaborn as sns\n",
    "import matplotlib.pyplot as plt\n",
    "import numpy as np\n",
    "import random\n",
    "import math"
   ]
  },
  {
   "cell_type": "markdown",
   "metadata": {},
   "source": [
    "##Leyendo el archivo de entrada"
   ]
  },
  {
   "cell_type": "code",
   "execution_count": 4,
   "metadata": {},
   "outputs": [
    {
     "data": {
      "text/html": [
       "<div>\n",
       "<table border=\"1\" class=\"dataframe\">\n",
       "  <thead>\n",
       "    <tr style=\"text-align: right;\">\n",
       "      <th></th>\n",
       "      <th>ciudades</th>\n",
       "      <th>tiempo</th>\n",
       "      <th>costo</th>\n",
       "      <th>tamanio solucion</th>\n",
       "      <th>solucion</th>\n",
       "      <th>Unnamed: 5</th>\n",
       "    </tr>\n",
       "  </thead>\n",
       "  <tbody>\n",
       "    <tr>\n",
       "      <th>0</th>\n",
       "      <td>5</td>\n",
       "      <td>12451</td>\n",
       "      <td>13</td>\n",
       "      <td>4</td>\n",
       "      <td>(1,3) (2,3) (1,4) (0,2)</td>\n",
       "      <td>NaN</td>\n",
       "    </tr>\n",
       "    <tr>\n",
       "      <th>1</th>\n",
       "      <td>5</td>\n",
       "      <td>9116</td>\n",
       "      <td>3087</td>\n",
       "      <td>4</td>\n",
       "      <td>(0,4) (1,3) (1,4) (2,3)</td>\n",
       "      <td>NaN</td>\n",
       "    </tr>\n",
       "    <tr>\n",
       "      <th>2</th>\n",
       "      <td>5</td>\n",
       "      <td>9027</td>\n",
       "      <td>2536</td>\n",
       "      <td>4</td>\n",
       "      <td>(1,3) (0,2) (2,4) (0,3)</td>\n",
       "      <td>NaN</td>\n",
       "    </tr>\n",
       "    <tr>\n",
       "      <th>3</th>\n",
       "      <td>5</td>\n",
       "      <td>21692</td>\n",
       "      <td>1494</td>\n",
       "      <td>4</td>\n",
       "      <td>(0,4) (3,4) (1,4) (1,2)</td>\n",
       "      <td>NaN</td>\n",
       "    </tr>\n",
       "    <tr>\n",
       "      <th>4</th>\n",
       "      <td>5</td>\n",
       "      <td>16948</td>\n",
       "      <td>2392</td>\n",
       "      <td>4</td>\n",
       "      <td>(0,4) (3,4) (2,4) (1,3)</td>\n",
       "      <td>NaN</td>\n",
       "    </tr>\n",
       "  </tbody>\n",
       "</table>\n",
       "</div>"
      ],
      "text/plain": [
       "   ciudades  tiempo  costo  tamanio solucion                 solucion  \\\n",
       "0         5   12451     13                 4  (1,3) (2,3) (1,4) (0,2)   \n",
       "1         5    9116   3087                 4  (0,4) (1,3) (1,4) (2,3)   \n",
       "2         5    9027   2536                 4  (1,3) (0,2) (2,4) (0,3)   \n",
       "3         5   21692   1494                 4  (0,4) (3,4) (1,4) (1,2)   \n",
       "4         5   16948   2392                 4  (0,4) (3,4) (2,4) (1,3)   \n",
       "\n",
       "   Unnamed: 5  \n",
       "0         NaN  \n",
       "1         NaN  \n",
       "2         NaN  \n",
       "3         NaN  \n",
       "4         NaN  "
      ]
     },
     "execution_count": 4,
     "metadata": {},
     "output_type": "execute_result"
    }
   ],
   "source": [
    "dataset=\"Prueba\"\n",
    "df = pd.read_csv(dataset,delimiter=\";\")\n",
    "df.head()"
   ]
  },
  {
   "cell_type": "code",
   "execution_count": null,
   "metadata": {},
   "outputs": [],
   "source": []
  },
  {
   "cell_type": "code",
   "execution_count": null,
   "metadata": {},
   "outputs": [],
   "source": []
  },
  {
   "cell_type": "markdown",
   "metadata": {},
   "source": [
    "##Comparando con funciones exponenciales"
   ]
  },
  {
   "cell_type": "code",
   "execution_count": null,
   "metadata": {},
   "outputs": [],
   "source": []
  },
  {
   "cell_type": "code",
   "execution_count": null,
   "metadata": {},
   "outputs": [],
   "source": []
  },
  {
   "cell_type": "code",
   "execution_count": null,
   "metadata": {},
   "outputs": [],
   "source": []
  },
  {
   "cell_type": "code",
   "execution_count": null,
   "metadata": {},
   "outputs": [],
   "source": []
  },
  {
   "cell_type": "code",
   "execution_count": null,
   "metadata": {},
   "outputs": [],
   "source": []
  },
  {
   "cell_type": "code",
   "execution_count": null,
   "metadata": {
    "collapsed": true
   },
   "outputs": [],
   "source": []
  },
  {
   "cell_type": "code",
   "execution_count": null,
   "metadata": {},
   "outputs": [],
   "source": []
  },
  {
   "cell_type": "code",
   "execution_count": 26,
   "metadata": {},
   "outputs": [],
   "source": [
    "data=df[df['ciudades'] > 200]\n",
    "df3 = pd.DataFrame()\n",
    "nodos=data.ciudades\n",
    "df3['Nodos'] = nodos\n",
    "df3['Tiempos'] = data['tiempo']\n",
    "df3['Complejidad (n^2*log(n))'] = [100+random.normalvariate((n**2),50) for n in nodos]\n",
    "#plt.clf()\n",
    "correlation = df3.corr()\n",
    "sns.jointplot(df3['Complejidad (n^2*log(n))'], df3['Tiempos'], kind=\"reg\")\n",
    "sns.plt.show()"
   ]
  },
  {
   "cell_type": "code",
   "execution_count": 15,
   "metadata": {},
   "outputs": [
    {
     "data": {
      "text/html": [
       "<div>\n",
       "<table border=\"1\" class=\"dataframe\">\n",
       "  <thead>\n",
       "    <tr style=\"text-align: right;\">\n",
       "      <th></th>\n",
       "      <th>ciudades</th>\n",
       "      <th>tiempo</th>\n",
       "    </tr>\n",
       "    <tr>\n",
       "      <th>ciudades</th>\n",
       "      <th></th>\n",
       "      <th></th>\n",
       "    </tr>\n",
       "  </thead>\n",
       "  <tbody>\n",
       "    <tr>\n",
       "      <th>5</th>\n",
       "      <td>5.0</td>\n",
       "      <td>15946.18100</td>\n",
       "    </tr>\n",
       "    <tr>\n",
       "      <th>10</th>\n",
       "      <td>10.0</td>\n",
       "      <td>41199.36450</td>\n",
       "    </tr>\n",
       "    <tr>\n",
       "      <th>15</th>\n",
       "      <td>15.0</td>\n",
       "      <td>83294.22700</td>\n",
       "    </tr>\n",
       "    <tr>\n",
       "      <th>20</th>\n",
       "      <td>20.0</td>\n",
       "      <td>146276.57625</td>\n",
       "    </tr>\n",
       "    <tr>\n",
       "      <th>25</th>\n",
       "      <td>25.0</td>\n",
       "      <td>227159.99400</td>\n",
       "    </tr>\n",
       "  </tbody>\n",
       "</table>\n",
       "</div>"
      ],
      "text/plain": [
       "          ciudades        tiempo\n",
       "ciudades                        \n",
       "5              5.0   15946.18100\n",
       "10            10.0   41199.36450\n",
       "15            15.0   83294.22700\n",
       "20            20.0  146276.57625\n",
       "25            25.0  227159.99400"
      ]
     },
     "execution_count": 15,
     "metadata": {},
     "output_type": "execute_result"
    }
   ],
   "source": [
    "agrupar_por_n = pd.DataFrame()\n",
    "agrupar_por_n = df[['ciudades','tiempo']].groupby(df['ciudades']).mean()\n",
    "agrupar_por_n.head()"
   ]
  },
  {
   "cell_type": "code",
   "execution_count": 21,
   "metadata": {},
   "outputs": [
    {
     "data": {
      "text/html": [
       "<div>\n",
       "<table border=\"1\" class=\"dataframe\">\n",
       "  <thead>\n",
       "    <tr style=\"text-align: right;\">\n",
       "      <th></th>\n",
       "      <th>complejidad</th>\n",
       "      <th>tiempo</th>\n",
       "    </tr>\n",
       "    <tr>\n",
       "      <th>ciudades</th>\n",
       "      <th></th>\n",
       "      <th></th>\n",
       "    </tr>\n",
       "  </thead>\n",
       "  <tbody>\n",
       "    <tr>\n",
       "      <th>5</th>\n",
       "      <td>25.0</td>\n",
       "      <td>1.594618e+04</td>\n",
       "    </tr>\n",
       "    <tr>\n",
       "      <th>10</th>\n",
       "      <td>100.0</td>\n",
       "      <td>4.119936e+04</td>\n",
       "    </tr>\n",
       "    <tr>\n",
       "      <th>15</th>\n",
       "      <td>225.0</td>\n",
       "      <td>8.329423e+04</td>\n",
       "    </tr>\n",
       "    <tr>\n",
       "      <th>20</th>\n",
       "      <td>400.0</td>\n",
       "      <td>1.462766e+05</td>\n",
       "    </tr>\n",
       "    <tr>\n",
       "      <th>25</th>\n",
       "      <td>625.0</td>\n",
       "      <td>2.271600e+05</td>\n",
       "    </tr>\n",
       "    <tr>\n",
       "      <th>30</th>\n",
       "      <td>900.0</td>\n",
       "      <td>3.331914e+05</td>\n",
       "    </tr>\n",
       "    <tr>\n",
       "      <th>35</th>\n",
       "      <td>1225.0</td>\n",
       "      <td>4.526736e+05</td>\n",
       "    </tr>\n",
       "    <tr>\n",
       "      <th>40</th>\n",
       "      <td>1600.0</td>\n",
       "      <td>5.930742e+05</td>\n",
       "    </tr>\n",
       "    <tr>\n",
       "      <th>45</th>\n",
       "      <td>2025.0</td>\n",
       "      <td>7.625823e+05</td>\n",
       "    </tr>\n",
       "    <tr>\n",
       "      <th>50</th>\n",
       "      <td>2500.0</td>\n",
       "      <td>9.383346e+05</td>\n",
       "    </tr>\n",
       "    <tr>\n",
       "      <th>100</th>\n",
       "      <td>10000.0</td>\n",
       "      <td>4.095992e+06</td>\n",
       "    </tr>\n",
       "    <tr>\n",
       "      <th>200</th>\n",
       "      <td>40000.0</td>\n",
       "      <td>8.191969e+06</td>\n",
       "    </tr>\n",
       "    <tr>\n",
       "      <th>300</th>\n",
       "      <td>90000.0</td>\n",
       "      <td>1.892049e+07</td>\n",
       "    </tr>\n",
       "    <tr>\n",
       "      <th>400</th>\n",
       "      <td>160000.0</td>\n",
       "      <td>3.487181e+07</td>\n",
       "    </tr>\n",
       "  </tbody>\n",
       "</table>\n",
       "</div>"
      ],
      "text/plain": [
       "          complejidad        tiempo\n",
       "ciudades                           \n",
       "5                25.0  1.594618e+04\n",
       "10              100.0  4.119936e+04\n",
       "15              225.0  8.329423e+04\n",
       "20              400.0  1.462766e+05\n",
       "25              625.0  2.271600e+05\n",
       "30              900.0  3.331914e+05\n",
       "35             1225.0  4.526736e+05\n",
       "40             1600.0  5.930742e+05\n",
       "45             2025.0  7.625823e+05\n",
       "50             2500.0  9.383346e+05\n",
       "100           10000.0  4.095992e+06\n",
       "200           40000.0  8.191969e+06\n",
       "300           90000.0  1.892049e+07\n",
       "400          160000.0  3.487181e+07"
      ]
     },
     "execution_count": 21,
     "metadata": {},
     "output_type": "execute_result"
    }
   ],
   "source": [
    "\n",
    "agrupar_por_n['sqrt']=agrupar_por_n.tiempo.apply(math.sqrt)\n",
    "agrupar_por_n['complejidad']=agrupar_por_n.ciudades.apply(lambda x:((x**2)))\n",
    "agrupar_por_n.head(50)\n",
    "sns.factorplot(x='complejidad', y='tiempo', data=agrupar_por_n)\n",
    "plt.show()\n",
    "agrupar_por_n[['complejidad','tiempo']].head(25)"
   ]
  },
  {
   "cell_type": "code",
   "execution_count": null,
   "metadata": {},
   "outputs": [],
   "source": []
  },
  {
   "cell_type": "code",
   "execution_count": null,
   "metadata": {
    "collapsed": true
   },
   "outputs": [],
   "source": []
  }
 ],
 "metadata": {
  "kernelspec": {
   "display_name": "Python 2",
   "language": "python",
   "name": "python2"
  },
  "language_info": {
   "codemirror_mode": {
    "name": "ipython",
    "version": 2
   },
   "file_extension": ".py",
   "mimetype": "text/x-python",
   "name": "python",
   "nbconvert_exporter": "python",
   "pygments_lexer": "ipython2",
   "version": "2.7.9"
  }
 },
 "nbformat": 4,
 "nbformat_minor": 2
}
