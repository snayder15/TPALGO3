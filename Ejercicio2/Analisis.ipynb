{
 "cells": [
  {
   "cell_type": "code",
   "execution_count": 18,
   "metadata": {
    "collapsed": true
   },
   "outputs": [],
   "source": [
    "import pandas as pd\n",
    "import seaborn as sns\n",
    "import matplotlib.pyplot as plt\n",
    "import numpy as np\n",
    "import random\n",
    "import math"
   ]
  },
  {
   "cell_type": "markdown",
   "metadata": {},
   "source": [
    "##Leyendo el archivo de entrada"
   ]
  },
  {
   "cell_type": "code",
   "execution_count": 27,
   "metadata": {},
   "outputs": [
    {
     "data": {
      "text/html": [
       "<div>\n",
       "<table border=\"1\" class=\"dataframe\">\n",
       "  <thead>\n",
       "    <tr style=\"text-align: right;\">\n",
       "      <th></th>\n",
       "      <th>ciudades</th>\n",
       "      <th>cantidad rutas</th>\n",
       "      <th>max peaje</th>\n",
       "      <th>solucion</th>\n",
       "      <th>tiempo</th>\n",
       "      <th>Unnamed: 5</th>\n",
       "    </tr>\n",
       "  </thead>\n",
       "  <tbody>\n",
       "    <tr>\n",
       "      <th>0</th>\n",
       "      <td>10</td>\n",
       "      <td>1</td>\n",
       "      <td>5</td>\n",
       "      <td>infinito</td>\n",
       "      <td>44560</td>\n",
       "      <td>NaN</td>\n",
       "    </tr>\n",
       "    <tr>\n",
       "      <th>1</th>\n",
       "      <td>10</td>\n",
       "      <td>1</td>\n",
       "      <td>10</td>\n",
       "      <td>infinito</td>\n",
       "      <td>55596</td>\n",
       "      <td>NaN</td>\n",
       "    </tr>\n",
       "    <tr>\n",
       "      <th>2</th>\n",
       "      <td>10</td>\n",
       "      <td>1</td>\n",
       "      <td>15</td>\n",
       "      <td>infinito</td>\n",
       "      <td>60904</td>\n",
       "      <td>NaN</td>\n",
       "    </tr>\n",
       "    <tr>\n",
       "      <th>3</th>\n",
       "      <td>10</td>\n",
       "      <td>1</td>\n",
       "      <td>20</td>\n",
       "      <td>infinito</td>\n",
       "      <td>63837</td>\n",
       "      <td>NaN</td>\n",
       "    </tr>\n",
       "    <tr>\n",
       "      <th>4</th>\n",
       "      <td>10</td>\n",
       "      <td>1</td>\n",
       "      <td>25</td>\n",
       "      <td>infinito</td>\n",
       "      <td>60833</td>\n",
       "      <td>NaN</td>\n",
       "    </tr>\n",
       "  </tbody>\n",
       "</table>\n",
       "</div>"
      ],
      "text/plain": [
       "   ciudades  cantidad rutas  max peaje  solucion  tiempo  Unnamed: 5\n",
       "0        10               1          5  infinito   44560         NaN\n",
       "1        10               1         10  infinito   55596         NaN\n",
       "2        10               1         15  infinito   60904         NaN\n",
       "3        10               1         20  infinito   63837         NaN\n",
       "4        10               1         25  infinito   60833         NaN"
      ]
     },
     "execution_count": 27,
     "metadata": {},
     "output_type": "execute_result"
    }
   ],
   "source": [
    "dataset=\"emi2.dat\"\n",
    "gral = pd.read_csv(dataset,delimiter=\";\")\n",
    "dataset2=\"amy.dat\"\n",
    "caso = pd.read_csv(dataset2,delimiter=\";\")\n",
    "caso.head()"
   ]
  },
  {
   "cell_type": "markdown",
   "metadata": {},
   "source": [
    "Ejemplo de Filtro"
   ]
  },
  {
   "cell_type": "code",
   "execution_count": 28,
   "metadata": {},
   "outputs": [
    {
     "data": {
      "text/html": [
       "<div>\n",
       "<table border=\"1\" class=\"dataframe\">\n",
       "  <thead>\n",
       "    <tr style=\"text-align: right;\">\n",
       "      <th></th>\n",
       "      <th>ciudades</th>\n",
       "      <th>cantidad rutas</th>\n",
       "      <th>max peaje</th>\n",
       "      <th>solucion</th>\n",
       "      <th>tiempo</th>\n",
       "      <th>Unnamed: 5</th>\n",
       "    </tr>\n",
       "  </thead>\n",
       "  <tbody>\n",
       "    <tr>\n",
       "      <th>0</th>\n",
       "      <td>5</td>\n",
       "      <td>9</td>\n",
       "      <td>5</td>\n",
       "      <td>0</td>\n",
       "      <td>22979</td>\n",
       "      <td>NaN</td>\n",
       "    </tr>\n",
       "    <tr>\n",
       "      <th>99</th>\n",
       "      <td>5</td>\n",
       "      <td>5</td>\n",
       "      <td>5</td>\n",
       "      <td>3</td>\n",
       "      <td>28775</td>\n",
       "      <td>NaN</td>\n",
       "    </tr>\n",
       "    <tr>\n",
       "      <th>198</th>\n",
       "      <td>5</td>\n",
       "      <td>2</td>\n",
       "      <td>5</td>\n",
       "      <td>infinito</td>\n",
       "      <td>18369</td>\n",
       "      <td>NaN</td>\n",
       "    </tr>\n",
       "    <tr>\n",
       "      <th>297</th>\n",
       "      <td>5</td>\n",
       "      <td>7</td>\n",
       "      <td>5</td>\n",
       "      <td>2</td>\n",
       "      <td>26331</td>\n",
       "      <td>NaN</td>\n",
       "    </tr>\n",
       "    <tr>\n",
       "      <th>396</th>\n",
       "      <td>5</td>\n",
       "      <td>5</td>\n",
       "      <td>5</td>\n",
       "      <td>4</td>\n",
       "      <td>18927</td>\n",
       "      <td>NaN</td>\n",
       "    </tr>\n",
       "  </tbody>\n",
       "</table>\n",
       "</div>"
      ],
      "text/plain": [
       "     ciudades  cantidad rutas  max peaje  solucion  tiempo  Unnamed: 5\n",
       "0           5               9          5         0   22979         NaN\n",
       "99          5               5          5         3   28775         NaN\n",
       "198         5               2          5  infinito   18369         NaN\n",
       "297         5               7          5         2   26331         NaN\n",
       "396         5               5          5         4   18927         NaN"
      ]
     },
     "execution_count": 28,
     "metadata": {},
     "output_type": "execute_result"
    }
   ],
   "source": [
    "tabla_k1 = gral[gral['max peaje'] == 5]\n",
    "tabla_k1.head()"
   ]
  },
  {
   "cell_type": "markdown",
   "metadata": {},
   "source": [
    "##Comparando con funciones exponenciales"
   ]
  },
  {
   "cell_type": "code",
   "execution_count": 29,
   "metadata": {},
   "outputs": [
    {
     "data": {
      "text/html": [
       "<div>\n",
       "<table border=\"1\" class=\"dataframe\">\n",
       "  <thead>\n",
       "    <tr style=\"text-align: right;\">\n",
       "      <th></th>\n",
       "      <th>ciudades</th>\n",
       "      <th>cantidad rutas</th>\n",
       "      <th>max peaje</th>\n",
       "      <th>solucion</th>\n",
       "      <th>tiempo</th>\n",
       "      <th>Unnamed: 5</th>\n",
       "      <th>producto</th>\n",
       "    </tr>\n",
       "  </thead>\n",
       "  <tbody>\n",
       "    <tr>\n",
       "      <th>0</th>\n",
       "      <td>5</td>\n",
       "      <td>9</td>\n",
       "      <td>5</td>\n",
       "      <td>0</td>\n",
       "      <td>22979</td>\n",
       "      <td>NaN</td>\n",
       "      <td>72.424706</td>\n",
       "    </tr>\n",
       "    <tr>\n",
       "      <th>1</th>\n",
       "      <td>5</td>\n",
       "      <td>7</td>\n",
       "      <td>10</td>\n",
       "      <td>6</td>\n",
       "      <td>25772</td>\n",
       "      <td>NaN</td>\n",
       "      <td>80.590478</td>\n",
       "    </tr>\n",
       "    <tr>\n",
       "      <th>2</th>\n",
       "      <td>5</td>\n",
       "      <td>1</td>\n",
       "      <td>15</td>\n",
       "      <td>infinito</td>\n",
       "      <td>22979</td>\n",
       "      <td>NaN</td>\n",
       "      <td>13.540251</td>\n",
       "    </tr>\n",
       "    <tr>\n",
       "      <th>3</th>\n",
       "      <td>5</td>\n",
       "      <td>4</td>\n",
       "      <td>20</td>\n",
       "      <td>infinito</td>\n",
       "      <td>36179</td>\n",
       "      <td>NaN</td>\n",
       "      <td>59.914645</td>\n",
       "    </tr>\n",
       "    <tr>\n",
       "      <th>4</th>\n",
       "      <td>5</td>\n",
       "      <td>7</td>\n",
       "      <td>25</td>\n",
       "      <td>11</td>\n",
       "      <td>44699</td>\n",
       "      <td>NaN</td>\n",
       "      <td>112.660654</td>\n",
       "    </tr>\n",
       "  </tbody>\n",
       "</table>\n",
       "</div>"
      ],
      "text/plain": [
       "   ciudades  cantidad rutas  max peaje  solucion  tiempo  Unnamed: 5  \\\n",
       "0         5               9          5         0   22979         NaN   \n",
       "1         5               7         10         6   25772         NaN   \n",
       "2         5               1         15  infinito   22979         NaN   \n",
       "3         5               4         20  infinito   36179         NaN   \n",
       "4         5               7         25        11   44699         NaN   \n",
       "\n",
       "     producto  \n",
       "0   72.424706  \n",
       "1   80.590478  \n",
       "2   13.540251  \n",
       "3   59.914645  \n",
       "4  112.660654  "
      ]
     },
     "execution_count": 29,
     "metadata": {},
     "output_type": "execute_result"
    }
   ],
   "source": [
    "gral['producto']=gral['ciudades']*gral['cantidad rutas']*gral['max peaje'].apply(math.log)\n",
    "gral.head()"
   ]
  },
  {
   "cell_type": "code",
   "execution_count": 30,
   "metadata": {},
   "outputs": [],
   "source": [
    "df3 = pd.DataFrame()\n",
    "nodos=gral['producto']\n",
    "df3['Nodos'] = nodos\n",
    "df3['Tiempos'] = gral['tiempo']\n",
    "df3['Complejidad n*m*log(c)'] = [100 + random.normalvariate(n,50) for n in nodos]\n"
   ]
  },
  {
   "cell_type": "markdown",
   "metadata": {
    "collapsed": true
   },
   "source": [
    "Armo Pearson general"
   ]
  },
  {
   "cell_type": "code",
   "execution_count": null,
   "metadata": {},
   "outputs": [],
   "source": [
    "#plt.clf()\n",
    "correlation = df3.corr()\n",
    "sns.jointplot(df3['Complejidad n*m*log(c)'], df3['Tiempos'], kind=\"reg\")\n",
    "sns.plt.show\n",
    "plt.show()"
   ]
  },
  {
   "cell_type": "markdown",
   "metadata": {
    "collapsed": true
   },
   "source": [
    "Armo grafico de pearson para un n*m fijo"
   ]
  },
  {
   "cell_type": "code",
   "execution_count": 45,
   "metadata": {},
   "outputs": [
    {
     "data": {
      "text/html": [
       "<div>\n",
       "<table border=\"1\" class=\"dataframe\">\n",
       "  <thead>\n",
       "    <tr style=\"text-align: right;\">\n",
       "      <th></th>\n",
       "      <th>ciudades</th>\n",
       "      <th>cantidad rutas</th>\n",
       "      <th>max peaje</th>\n",
       "      <th>solucion</th>\n",
       "      <th>tiempo</th>\n",
       "      <th>Unnamed: 5</th>\n",
       "      <th>producto</th>\n",
       "      <th>m*n</th>\n",
       "      <th>m*logc</th>\n",
       "    </tr>\n",
       "  </thead>\n",
       "  <tbody>\n",
       "    <tr>\n",
       "      <th>19804</th>\n",
       "      <td>10</td>\n",
       "      <td>10</td>\n",
       "      <td>25</td>\n",
       "      <td>11</td>\n",
       "      <td>119501</td>\n",
       "      <td>NaN</td>\n",
       "      <td>321.887582</td>\n",
       "      <td>100</td>\n",
       "      <td>32.188758</td>\n",
       "    </tr>\n",
       "    <tr>\n",
       "      <th>19806</th>\n",
       "      <td>10</td>\n",
       "      <td>10</td>\n",
       "      <td>35</td>\n",
       "      <td>20</td>\n",
       "      <td>95546</td>\n",
       "      <td>NaN</td>\n",
       "      <td>355.534806</td>\n",
       "      <td>100</td>\n",
       "      <td>35.553481</td>\n",
       "    </tr>\n",
       "    <tr>\n",
       "      <th>19826</th>\n",
       "      <td>10</td>\n",
       "      <td>10</td>\n",
       "      <td>135</td>\n",
       "      <td>72</td>\n",
       "      <td>119222</td>\n",
       "      <td>NaN</td>\n",
       "      <td>490.527478</td>\n",
       "      <td>100</td>\n",
       "      <td>49.052748</td>\n",
       "    </tr>\n",
       "    <tr>\n",
       "      <th>19845</th>\n",
       "      <td>10</td>\n",
       "      <td>10</td>\n",
       "      <td>230</td>\n",
       "      <td>infinito</td>\n",
       "      <td>166716</td>\n",
       "      <td>NaN</td>\n",
       "      <td>543.807931</td>\n",
       "      <td>100</td>\n",
       "      <td>54.380793</td>\n",
       "    </tr>\n",
       "    <tr>\n",
       "      <th>19860</th>\n",
       "      <td>10</td>\n",
       "      <td>10</td>\n",
       "      <td>305</td>\n",
       "      <td>267</td>\n",
       "      <td>152328</td>\n",
       "      <td>NaN</td>\n",
       "      <td>572.031178</td>\n",
       "      <td>100</td>\n",
       "      <td>57.203118</td>\n",
       "    </tr>\n",
       "  </tbody>\n",
       "</table>\n",
       "</div>"
      ],
      "text/plain": [
       "       ciudades  cantidad rutas  max peaje  solucion  tiempo  Unnamed: 5  \\\n",
       "19804        10              10         25        11  119501         NaN   \n",
       "19806        10              10         35        20   95546         NaN   \n",
       "19826        10              10        135        72  119222         NaN   \n",
       "19845        10              10        230  infinito  166716         NaN   \n",
       "19860        10              10        305       267  152328         NaN   \n",
       "\n",
       "         producto  m*n     m*logc  \n",
       "19804  321.887582  100  32.188758  \n",
       "19806  355.534806  100  35.553481  \n",
       "19826  490.527478  100  49.052748  \n",
       "19845  543.807931  100  54.380793  \n",
       "19860  572.031178  100  57.203118  "
      ]
     },
     "execution_count": 45,
     "metadata": {},
     "output_type": "execute_result"
    }
   ],
   "source": [
    "df3 = pd.DataFrame()\n",
    "gral['m*n']=gral['ciudades']*gral['cantidad rutas']\n",
    "filtrado=gral[gral['m*n']==100]\n",
    "filtrado.head()"
   ]
  },
  {
   "cell_type": "code",
   "execution_count": 48,
   "metadata": {},
   "outputs": [],
   "source": [
    "nodos=filtrado['max peaje']\n",
    "df3['Nodos'] = nodos\n",
    "df3['Tiempos'] = filtrado['tiempo']\n",
    "df3['Complejidad log(c)'] = [100 + random.normalvariate(math.log(n),50) for n in nodos]\n",
    "#plt.clf()\n",
    "correlation = df3.corr()\n",
    "sns.jointplot(df3['Complejidad log(c)'], df3['Tiempos'], kind=\"reg\")\n",
    "sns.plt.show()"
   ]
  },
  {
   "cell_type": "code",
   "execution_count": 46,
   "metadata": {},
   "outputs": [],
   "source": [
    "df3 = pd.DataFrame()\n",
    "gral['m*logc']=gral['cantidad rutas']*gral['max peaje'].apply(math.log)\n",
    "filtrado=gral[gral['m*logc']<50]\n",
    "nodos=filtrado['ciudades']\n",
    "df3['Nodos'] = nodos\n",
    "df3['Tiempos'] = filtrado['tiempo']\n",
    "df3['Complejidad log(c)'] = [100 + random.normalvariate(math.log(n),50) for n in nodos]\n",
    "#plt.clf()\n",
    "correlation = df3.corr()\n",
    "sns.jointplot(df3['Complejidad log(c)'], df3['Tiempos'], kind=\"reg\")\n",
    "sns.plt.show\n",
    "plt.show()"
   ]
  },
  {
   "cell_type": "code",
   "execution_count": null,
   "metadata": {
    "collapsed": true
   },
   "outputs": [],
   "source": []
  }
 ],
 "metadata": {
  "kernelspec": {
   "display_name": "Python 2",
   "language": "python",
   "name": "python2"
  },
  "language_info": {
   "codemirror_mode": {
    "name": "ipython",
    "version": 2
   },
   "file_extension": ".py",
   "mimetype": "text/x-python",
   "name": "python",
   "nbconvert_exporter": "python",
   "pygments_lexer": "ipython2",
   "version": "2.7.9"
  }
 },
 "nbformat": 4,
 "nbformat_minor": 2
}
