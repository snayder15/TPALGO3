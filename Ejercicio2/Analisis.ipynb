{
 "cells": [
  {
   "cell_type": "code",
   "execution_count": 1,
   "metadata": {
    "collapsed": true
   },
   "outputs": [],
   "source": [
    "import pandas as pd\n",
    "import seaborn as sns\n",
    "import matplotlib.pyplot as plt\n",
    "import numpy as np\n",
    "import random\n",
    "import math"
   ]
  },
  {
   "cell_type": "markdown",
   "metadata": {},
   "source": [
    "##Leyendo el archivo de entrada"
   ]
  },
  {
   "cell_type": "code",
   "execution_count": 2,
   "metadata": {},
   "outputs": [
    {
     "data": {
      "text/html": [
       "<div>\n",
       "<table border=\"1\" class=\"dataframe\">\n",
       "  <thead>\n",
       "    <tr style=\"text-align: right;\">\n",
       "      <th></th>\n",
       "      <th>ciudades</th>\n",
       "      <th>cantidad rutas</th>\n",
       "      <th>max peaje</th>\n",
       "      <th>solucion</th>\n",
       "      <th>tiempo</th>\n",
       "      <th>Unnamed: 5</th>\n",
       "    </tr>\n",
       "  </thead>\n",
       "  <tbody>\n",
       "    <tr>\n",
       "      <th>0</th>\n",
       "      <td>5</td>\n",
       "      <td>9</td>\n",
       "      <td>5</td>\n",
       "      <td>0</td>\n",
       "      <td>22979</td>\n",
       "      <td>NaN</td>\n",
       "    </tr>\n",
       "    <tr>\n",
       "      <th>1</th>\n",
       "      <td>5</td>\n",
       "      <td>7</td>\n",
       "      <td>10</td>\n",
       "      <td>6</td>\n",
       "      <td>25772</td>\n",
       "      <td>NaN</td>\n",
       "    </tr>\n",
       "    <tr>\n",
       "      <th>2</th>\n",
       "      <td>5</td>\n",
       "      <td>1</td>\n",
       "      <td>15</td>\n",
       "      <td>infinito</td>\n",
       "      <td>22979</td>\n",
       "      <td>NaN</td>\n",
       "    </tr>\n",
       "    <tr>\n",
       "      <th>3</th>\n",
       "      <td>5</td>\n",
       "      <td>4</td>\n",
       "      <td>20</td>\n",
       "      <td>infinito</td>\n",
       "      <td>36179</td>\n",
       "      <td>NaN</td>\n",
       "    </tr>\n",
       "    <tr>\n",
       "      <th>4</th>\n",
       "      <td>5</td>\n",
       "      <td>7</td>\n",
       "      <td>25</td>\n",
       "      <td>11</td>\n",
       "      <td>44699</td>\n",
       "      <td>NaN</td>\n",
       "    </tr>\n",
       "  </tbody>\n",
       "</table>\n",
       "</div>"
      ],
      "text/plain": [
       "   ciudades  cantidad rutas  max peaje  solucion  tiempo  Unnamed: 5\n",
       "0         5               9          5         0   22979         NaN\n",
       "1         5               7         10         6   25772         NaN\n",
       "2         5               1         15  infinito   22979         NaN\n",
       "3         5               4         20  infinito   36179         NaN\n",
       "4         5               7         25        11   44699         NaN"
      ]
     },
     "execution_count": 2,
     "metadata": {},
     "output_type": "execute_result"
    }
   ],
   "source": [
    "dataset=\"emi2.dat\"\n",
    "df = pd.read_csv(dataset,delimiter=\";\")\n",
    "df.head()"
   ]
  },
  {
   "cell_type": "code",
   "execution_count": 3,
   "metadata": {},
   "outputs": [
    {
     "data": {
      "text/html": [
       "<div>\n",
       "<table border=\"1\" class=\"dataframe\">\n",
       "  <thead>\n",
       "    <tr style=\"text-align: right;\">\n",
       "      <th></th>\n",
       "      <th>ciudades</th>\n",
       "      <th>cantidad rutas</th>\n",
       "      <th>max peaje</th>\n",
       "      <th>solucion</th>\n",
       "      <th>tiempo</th>\n",
       "      <th>Unnamed: 5</th>\n",
       "    </tr>\n",
       "  </thead>\n",
       "  <tbody>\n",
       "    <tr>\n",
       "      <th>0</th>\n",
       "      <td>5</td>\n",
       "      <td>9</td>\n",
       "      <td>5</td>\n",
       "      <td>0</td>\n",
       "      <td>22979</td>\n",
       "      <td>NaN</td>\n",
       "    </tr>\n",
       "    <tr>\n",
       "      <th>99</th>\n",
       "      <td>5</td>\n",
       "      <td>5</td>\n",
       "      <td>5</td>\n",
       "      <td>3</td>\n",
       "      <td>28775</td>\n",
       "      <td>NaN</td>\n",
       "    </tr>\n",
       "    <tr>\n",
       "      <th>198</th>\n",
       "      <td>5</td>\n",
       "      <td>2</td>\n",
       "      <td>5</td>\n",
       "      <td>infinito</td>\n",
       "      <td>18369</td>\n",
       "      <td>NaN</td>\n",
       "    </tr>\n",
       "    <tr>\n",
       "      <th>297</th>\n",
       "      <td>5</td>\n",
       "      <td>7</td>\n",
       "      <td>5</td>\n",
       "      <td>2</td>\n",
       "      <td>26331</td>\n",
       "      <td>NaN</td>\n",
       "    </tr>\n",
       "    <tr>\n",
       "      <th>396</th>\n",
       "      <td>5</td>\n",
       "      <td>5</td>\n",
       "      <td>5</td>\n",
       "      <td>4</td>\n",
       "      <td>18927</td>\n",
       "      <td>NaN</td>\n",
       "    </tr>\n",
       "  </tbody>\n",
       "</table>\n",
       "</div>"
      ],
      "text/plain": [
       "     ciudades  cantidad rutas  max peaje  solucion  tiempo  Unnamed: 5\n",
       "0           5               9          5         0   22979         NaN\n",
       "99          5               5          5         3   28775         NaN\n",
       "198         5               2          5  infinito   18369         NaN\n",
       "297         5               7          5         2   26331         NaN\n",
       "396         5               5          5         4   18927         NaN"
      ]
     },
     "execution_count": 3,
     "metadata": {},
     "output_type": "execute_result"
    }
   ],
   "source": [
    "tabla_k1 = df[df['max peaje'] == 5]\n",
    "tabla_k1.head()"
   ]
  },
  {
   "cell_type": "code",
   "execution_count": null,
   "metadata": {
    "collapsed": true
   },
   "outputs": [],
   "source": []
  },
  {
   "cell_type": "markdown",
   "metadata": {},
   "source": [
    "##Comparando con funciones exponenciales"
   ]
  },
  {
   "cell_type": "code",
   "execution_count": 4,
   "metadata": {
    "collapsed": true
   },
   "outputs": [],
   "source": [
    "tabla_filtrado_por_E=df[df['cantidad rutas'] == 5]"
   ]
  },
  {
   "cell_type": "code",
   "execution_count": null,
   "metadata": {
    "collapsed": true
   },
   "outputs": [],
   "source": []
  },
  {
   "cell_type": "code",
   "execution_count": 5,
   "metadata": {},
   "outputs": [
    {
     "data": {
      "text/html": [
       "<div>\n",
       "<table border=\"1\" class=\"dataframe\">\n",
       "  <thead>\n",
       "    <tr style=\"text-align: right;\">\n",
       "      <th></th>\n",
       "      <th>ciudades</th>\n",
       "      <th>tiempo</th>\n",
       "    </tr>\n",
       "    <tr>\n",
       "      <th>ciudades</th>\n",
       "      <th></th>\n",
       "      <th></th>\n",
       "    </tr>\n",
       "  </thead>\n",
       "  <tbody>\n",
       "    <tr>\n",
       "      <th>5.0</th>\n",
       "      <td>5.0</td>\n",
       "      <td>27492.526316</td>\n",
       "    </tr>\n",
       "    <tr>\n",
       "      <th>10.0</th>\n",
       "      <td>10.0</td>\n",
       "      <td>62893.250000</td>\n",
       "    </tr>\n",
       "    <tr>\n",
       "      <th>15.0</th>\n",
       "      <td>15.0</td>\n",
       "      <td>138232.800000</td>\n",
       "    </tr>\n",
       "    <tr>\n",
       "      <th>20.0</th>\n",
       "      <td>20.0</td>\n",
       "      <td>191649.000000</td>\n",
       "    </tr>\n",
       "    <tr>\n",
       "      <th>30.0</th>\n",
       "      <td>30.0</td>\n",
       "      <td>396117.000000</td>\n",
       "    </tr>\n",
       "  </tbody>\n",
       "</table>\n",
       "</div>"
      ],
      "text/plain": [
       "          ciudades         tiempo\n",
       "ciudades                         \n",
       "5.0            5.0   27492.526316\n",
       "10.0          10.0   62893.250000\n",
       "15.0          15.0  138232.800000\n",
       "20.0          20.0  191649.000000\n",
       "30.0          30.0  396117.000000"
      ]
     },
     "execution_count": 5,
     "metadata": {},
     "output_type": "execute_result"
    }
   ],
   "source": [
    "tabla = df[df['max peaje'] == 5]\n",
    "info=tabla_filtrado_por_E[['ciudades','tiempo']]\n",
    "agrupar_por_n = info.groupby(tabla['ciudades']).mean()\n",
    "agrupar_por_n.head()"
   ]
  },
  {
   "cell_type": "code",
   "execution_count": 6,
   "metadata": {
    "collapsed": true
   },
   "outputs": [],
   "source": [
    "plt.clf()\n",
    "info=pd.DataFrame()\n",
    "info['ciudades']=agrupar_por_n.ciudades.values\n",
    "info['tiempo']=agrupar_por_n.tiempo.values\n",
    "#info=agrupar_por_n[['ciudades','tiempos']]\n",
    "info.plot(x='ciudades')\n",
    "\n",
    "plt.ylabel('tiempo')\n",
    "plt.show()"
   ]
  },
  {
   "cell_type": "code",
   "execution_count": 6,
   "metadata": {},
   "outputs": [
    {
     "data": {
      "text/html": [
       "<div>\n",
       "<table border=\"1\" class=\"dataframe\">\n",
       "  <thead>\n",
       "    <tr style=\"text-align: right;\">\n",
       "      <th></th>\n",
       "      <th>ciudades</th>\n",
       "      <th>tiempos</th>\n",
       "      <th>sqrt</th>\n",
       "      <th>cubico</th>\n",
       "      <th>escala</th>\n",
       "    </tr>\n",
       "  </thead>\n",
       "  <tbody>\n",
       "    <tr>\n",
       "      <th>0</th>\n",
       "      <td>5</td>\n",
       "      <td>22979</td>\n",
       "      <td>151.588258</td>\n",
       "      <td>22979</td>\n",
       "      <td>125</td>\n",
       "    </tr>\n",
       "    <tr>\n",
       "      <th>99</th>\n",
       "      <td>5</td>\n",
       "      <td>28775</td>\n",
       "      <td>169.631955</td>\n",
       "      <td>28775</td>\n",
       "      <td>125</td>\n",
       "    </tr>\n",
       "    <tr>\n",
       "      <th>198</th>\n",
       "      <td>5</td>\n",
       "      <td>18369</td>\n",
       "      <td>135.532284</td>\n",
       "      <td>18369</td>\n",
       "      <td>125</td>\n",
       "    </tr>\n",
       "    <tr>\n",
       "      <th>297</th>\n",
       "      <td>5</td>\n",
       "      <td>26331</td>\n",
       "      <td>162.268296</td>\n",
       "      <td>26331</td>\n",
       "      <td>125</td>\n",
       "    </tr>\n",
       "    <tr>\n",
       "      <th>396</th>\n",
       "      <td>5</td>\n",
       "      <td>18927</td>\n",
       "      <td>137.575434</td>\n",
       "      <td>18927</td>\n",
       "      <td>125</td>\n",
       "    </tr>\n",
       "  </tbody>\n",
       "</table>\n",
       "</div>"
      ],
      "text/plain": [
       "     ciudades  tiempos        sqrt  cubico  escala\n",
       "0           5    22979  151.588258   22979     125\n",
       "99          5    28775  169.631955   28775     125\n",
       "198         5    18369  135.532284   18369     125\n",
       "297         5    26331  162.268296   26331     125\n",
       "396         5    18927  137.575434   18927     125"
      ]
     },
     "execution_count": 6,
     "metadata": {},
     "output_type": "execute_result"
    }
   ],
   "source": [
    "tabla_100= tabla_k1[tabla_k1['ciudades'] <= 150]\n",
    "caso = tabla_100.filter(['ciudades'], axis=1)\n",
    "#calculo el promedio evitando el n y el resultado\n",
    "#se lo inserto a caso con el titulo promedio\n",
    "caso['tiempos']=tabla_100.tiempo.values\n",
    "caso['sqrt']=caso.tiempos.apply(math.sqrt)\n",
    "caso['cubico']=caso.tiempos.apply(lambda x: x)\n",
    "caso['escala']=caso.ciudades.apply(lambda x: x**3)\n",
    "\n",
    "#caso['cubico']=caso.promedio.apply(lambda x: x**(1/2))\n",
    "\n",
    "#agrupo instancias del mismo tamanio y le calculo el promedio\n",
    "agrupar_por_n = caso.groupby(tabla_100['ciudades']).mean()\n",
    "caso.head()"
   ]
  },
  {
   "cell_type": "code",
   "execution_count": 7,
   "metadata": {
    "collapsed": true
   },
   "outputs": [],
   "source": [
    "agrupar_por_n.head()\n",
    "sns.factorplot(x='cubico', y='tiempos', data=agrupar_por_n)\n",
    "plt.show()"
   ]
  },
  {
   "cell_type": "code",
   "execution_count": 8,
   "metadata": {},
   "outputs": [
    {
     "data": {
      "text/html": [
       "<div>\n",
       "<table border=\"1\" class=\"dataframe\">\n",
       "  <thead>\n",
       "    <tr style=\"text-align: right;\">\n",
       "      <th></th>\n",
       "      <th>ciudades</th>\n",
       "      <th>cantidad rutas</th>\n",
       "      <th>max peaje</th>\n",
       "      <th>solucion</th>\n",
       "      <th>tiempo</th>\n",
       "      <th>Unnamed: 5</th>\n",
       "      <th>producto</th>\n",
       "    </tr>\n",
       "  </thead>\n",
       "  <tbody>\n",
       "    <tr>\n",
       "      <th>0</th>\n",
       "      <td>5</td>\n",
       "      <td>9</td>\n",
       "      <td>5</td>\n",
       "      <td>0</td>\n",
       "      <td>22979</td>\n",
       "      <td>NaN</td>\n",
       "      <td>72.424706</td>\n",
       "    </tr>\n",
       "    <tr>\n",
       "      <th>1</th>\n",
       "      <td>5</td>\n",
       "      <td>7</td>\n",
       "      <td>10</td>\n",
       "      <td>6</td>\n",
       "      <td>25772</td>\n",
       "      <td>NaN</td>\n",
       "      <td>80.590478</td>\n",
       "    </tr>\n",
       "    <tr>\n",
       "      <th>2</th>\n",
       "      <td>5</td>\n",
       "      <td>1</td>\n",
       "      <td>15</td>\n",
       "      <td>infinito</td>\n",
       "      <td>22979</td>\n",
       "      <td>NaN</td>\n",
       "      <td>13.540251</td>\n",
       "    </tr>\n",
       "    <tr>\n",
       "      <th>3</th>\n",
       "      <td>5</td>\n",
       "      <td>4</td>\n",
       "      <td>20</td>\n",
       "      <td>infinito</td>\n",
       "      <td>36179</td>\n",
       "      <td>NaN</td>\n",
       "      <td>59.914645</td>\n",
       "    </tr>\n",
       "    <tr>\n",
       "      <th>4</th>\n",
       "      <td>5</td>\n",
       "      <td>7</td>\n",
       "      <td>25</td>\n",
       "      <td>11</td>\n",
       "      <td>44699</td>\n",
       "      <td>NaN</td>\n",
       "      <td>112.660654</td>\n",
       "    </tr>\n",
       "  </tbody>\n",
       "</table>\n",
       "</div>"
      ],
      "text/plain": [
       "   ciudades  cantidad rutas  max peaje  solucion  tiempo  Unnamed: 5  \\\n",
       "0         5               9          5         0   22979         NaN   \n",
       "1         5               7         10         6   25772         NaN   \n",
       "2         5               1         15  infinito   22979         NaN   \n",
       "3         5               4         20  infinito   36179         NaN   \n",
       "4         5               7         25        11   44699         NaN   \n",
       "\n",
       "     producto  \n",
       "0   72.424706  \n",
       "1   80.590478  \n",
       "2   13.540251  \n",
       "3   59.914645  \n",
       "4  112.660654  "
      ]
     },
     "execution_count": 8,
     "metadata": {},
     "output_type": "execute_result"
    }
   ],
   "source": [
    "tabla_nueva=pd.DataFrame()\n",
    "df['producto']=df['ciudades']*df['cantidad rutas']*df['max peaje'].apply(math.log)\n",
    "restringido=df[df['max peaje'] == 20]\n",
    "restringido=df\n",
    "df.head()"
   ]
  },
  {
   "cell_type": "code",
   "execution_count": null,
   "metadata": {
    "collapsed": true
   },
   "outputs": [],
   "source": [
    "df3 = pd.DataFrame()\n",
    "nodos=restringido['producto']\n",
    "max_peaje=restringido['max peaje']\n",
    "cant_rutas=restringido['cantidad rutas']\n",
    "df3['Nodos'] = nodos\n",
    "df3['Tiempos'] = restringido['tiempo']\n",
    "df3['Complejidad n*m*log(c)'] = [100 + random.normalvariate(n*m*math.log(c),50) for n in nodos for m in cant_rutas for c in max_peaje]\n",
    "#plt.clf()\n",
    "correlation = df3.corr()\n",
    "sns.jointplot(df3['Complejidad n*m*log(c)'], df3['Tiempos'], kind=\"reg\")\n",
    "sns.plt.show\n",
    "plt.show()"
   ]
  },
  {
   "cell_type": "code",
   "execution_count": null,
   "metadata": {
    "collapsed": true
   },
   "outputs": [],
   "source": []
  },
  {
   "cell_type": "code",
   "execution_count": 121,
   "metadata": {
    "collapsed": true
   },
   "outputs": [],
   "source": []
  },
  {
   "cell_type": "code",
   "execution_count": null,
   "metadata": {
    "collapsed": true
   },
   "outputs": [],
   "source": []
  },
  {
   "cell_type": "code",
   "execution_count": null,
   "metadata": {
    "collapsed": true
   },
   "outputs": [],
   "source": []
  }
 ],
 "metadata": {
  "kernelspec": {
   "display_name": "Python 2",
   "language": "python",
   "name": "python2"
  },
  "language_info": {
   "codemirror_mode": {
    "name": "ipython",
    "version": 2
   },
   "file_extension": ".py",
   "mimetype": "text/x-python",
   "name": "python",
   "nbconvert_exporter": "python",
   "pygments_lexer": "ipython2",
   "version": "2.7.9"
  }
 },
 "nbformat": 4,
 "nbformat_minor": 2
}
