{
 "cells": [
  {
   "cell_type": "code",
   "execution_count": 1,
   "metadata": {
    "collapsed": true
   },
   "outputs": [],
   "source": [
    "import pandas as pd\n",
    "import seaborn as sns\n",
    "import matplotlib.pyplot as plt\n",
    "import numpy as np\n",
    "import random\n",
    "import math"
   ]
  },
  {
   "cell_type": "markdown",
   "metadata": {},
   "source": [
    "##Leyendo el archivo de entrada"
   ]
  },
  {
   "cell_type": "code",
   "execution_count": 11,
   "metadata": {},
   "outputs": [
    {
     "data": {
      "text/html": [
       "<div>\n",
       "<table border=\"1\" class=\"dataframe\">\n",
       "  <thead>\n",
       "    <tr style=\"text-align: right;\">\n",
       "      <th></th>\n",
       "      <th>ciudades</th>\n",
       "      <th>k</th>\n",
       "      <th>resultado</th>\n",
       "      <th>tiempo</th>\n",
       "      <th>Unnamed: 4</th>\n",
       "    </tr>\n",
       "  </thead>\n",
       "  <tbody>\n",
       "    <tr>\n",
       "      <th>0</th>\n",
       "      <td>5</td>\n",
       "      <td>5</td>\n",
       "      <td>0</td>\n",
       "      <td>127953</td>\n",
       "      <td>NaN</td>\n",
       "    </tr>\n",
       "    <tr>\n",
       "      <th>1</th>\n",
       "      <td>5</td>\n",
       "      <td>5</td>\n",
       "      <td>0</td>\n",
       "      <td>117825</td>\n",
       "      <td>NaN</td>\n",
       "    </tr>\n",
       "    <tr>\n",
       "      <th>2</th>\n",
       "      <td>5</td>\n",
       "      <td>5</td>\n",
       "      <td>0</td>\n",
       "      <td>174399</td>\n",
       "      <td>NaN</td>\n",
       "    </tr>\n",
       "    <tr>\n",
       "      <th>3</th>\n",
       "      <td>5</td>\n",
       "      <td>5</td>\n",
       "      <td>43</td>\n",
       "      <td>161407</td>\n",
       "      <td>NaN</td>\n",
       "    </tr>\n",
       "    <tr>\n",
       "      <th>4</th>\n",
       "      <td>5</td>\n",
       "      <td>5</td>\n",
       "      <td>28</td>\n",
       "      <td>172723</td>\n",
       "      <td>NaN</td>\n",
       "    </tr>\n",
       "  </tbody>\n",
       "</table>\n",
       "</div>"
      ],
      "text/plain": [
       "   ciudades  k  resultado  tiempo  Unnamed: 4\n",
       "0         5  5          0  127953         NaN\n",
       "1         5  5          0  117825         NaN\n",
       "2         5  5          0  174399         NaN\n",
       "3         5  5         43  161407         NaN\n",
       "4         5  5         28  172723         NaN"
      ]
     },
     "execution_count": 11,
     "metadata": {},
     "output_type": "execute_result"
    }
   ],
   "source": [
    "dataset1=\"corrida1.dat\"\n",
    "gral = pd.read_csv(dataset1,delimiter=\";\")\n",
    "dataset2=\"kcte.dat\"\n",
    "kcte = pd.read_csv(dataset2,delimiter=\";\")\n",
    "dataset3=\"ncte.dat\"\n",
    "ncte = pd.read_csv(dataset3,delimiter=\";\")\n",
    "ncte.head()"
   ]
  },
  {
   "cell_type": "markdown",
   "metadata": {},
   "source": [
    "Filtrado"
   ]
  },
  {
   "cell_type": "code",
   "execution_count": 12,
   "metadata": {},
   "outputs": [
    {
     "data": {
      "text/html": [
       "<div>\n",
       "<table border=\"1\" class=\"dataframe\">\n",
       "  <thead>\n",
       "    <tr style=\"text-align: right;\">\n",
       "      <th></th>\n",
       "      <th>ciudades</th>\n",
       "      <th>k</th>\n",
       "      <th>resultado</th>\n",
       "      <th>tiempo</th>\n",
       "      <th>Unnamed: 4</th>\n",
       "    </tr>\n",
       "  </thead>\n",
       "  <tbody>\n",
       "    <tr>\n",
       "      <th>1</th>\n",
       "      <td>5</td>\n",
       "      <td>1</td>\n",
       "      <td>40</td>\n",
       "      <td>36529</td>\n",
       "      <td>NaN</td>\n",
       "    </tr>\n",
       "    <tr>\n",
       "      <th>6</th>\n",
       "      <td>5</td>\n",
       "      <td>1</td>\n",
       "      <td>18</td>\n",
       "      <td>44002</td>\n",
       "      <td>NaN</td>\n",
       "    </tr>\n",
       "    <tr>\n",
       "      <th>11</th>\n",
       "      <td>5</td>\n",
       "      <td>1</td>\n",
       "      <td>0</td>\n",
       "      <td>43373</td>\n",
       "      <td>NaN</td>\n",
       "    </tr>\n",
       "    <tr>\n",
       "      <th>16</th>\n",
       "      <td>5</td>\n",
       "      <td>1</td>\n",
       "      <td>0</td>\n",
       "      <td>47703</td>\n",
       "      <td>NaN</td>\n",
       "    </tr>\n",
       "    <tr>\n",
       "      <th>21</th>\n",
       "      <td>5</td>\n",
       "      <td>1</td>\n",
       "      <td>214</td>\n",
       "      <td>26960</td>\n",
       "      <td>NaN</td>\n",
       "    </tr>\n",
       "  </tbody>\n",
       "</table>\n",
       "</div>"
      ],
      "text/plain": [
       "    ciudades  k  resultado  tiempo  Unnamed: 4\n",
       "1          5  1         40   36529         NaN\n",
       "6          5  1         18   44002         NaN\n",
       "11         5  1          0   43373         NaN\n",
       "16         5  1          0   47703         NaN\n",
       "21         5  1        214   26960         NaN"
      ]
     },
     "execution_count": 12,
     "metadata": {},
     "output_type": "execute_result"
    }
   ],
   "source": [
    "tabla_k1 = gral[gral['k'] == 1]\n",
    "tabla_k1.head()"
   ]
  },
  {
   "cell_type": "markdown",
   "metadata": {},
   "source": []
  },
  {
   "cell_type": "markdown",
   "metadata": {},
   "source": [
    "Calculo el producto, para mostrar (n*k)**2"
   ]
  },
  {
   "cell_type": "code",
   "execution_count": 14,
   "metadata": {
    "collapsed": true
   },
   "outputs": [],
   "source": [
    "gral['producto']=gral['ciudades']*gral['k']\n",
    "df3 = pd.DataFrame()\n",
    "nodos=gral['producto']\n",
    "df3['Nodos'] = nodos\n",
    "df3['Tiempos'] = gral['tiempo']\n",
    "df3['Complejidad (n*k)^2'] = [100 + random.normalvariate(n**2,50) for n in nodos]\n",
    "#plt.clf()\n",
    "correlation = df3.corr()\n",
    "sns.jointplot(df3['Complejidad (n*k)^2'], df3['Tiempos'], kind=\"reg\")\n",
    "sns.plt.show()"
   ]
  },
  {
   "cell_type": "markdown",
   "metadata": {},
   "source": [
    "Calculo pearson para un n fijo"
   ]
  },
  {
   "cell_type": "code",
   "execution_count": 15,
   "metadata": {
    "collapsed": true
   },
   "outputs": [],
   "source": [
    "ncte['producto']=ncte['ciudades']*ncte['k']\n",
    "df3 = pd.DataFrame()\n",
    "nodos=ncte['producto']\n",
    "df3['Nodos'] = nodos\n",
    "df3['Tiempos'] = ncte['tiempo']\n",
    "df3['Complejidad (n*k)^2'] = [100 + random.normalvariate(n**2,50) for n in nodos]\n",
    "#plt.clf()\n",
    "correlation = df3.corr()\n",
    "sns.jointplot(df3['Complejidad (n*k)^2'], df3['Tiempos'], kind=\"reg\")\n",
    "sns.plt.show()"
   ]
  },
  {
   "cell_type": "markdown",
   "metadata": {
    "collapsed": true
   },
   "source": [
    "Calculo pearson para un k fijo"
   ]
  },
  {
   "cell_type": "code",
   "execution_count": 18,
   "metadata": {
    "collapsed": true
   },
   "outputs": [],
   "source": [
    "kfijo=kcte[kcte['k']==5]\n",
    "kcte['producto']=kcte['ciudades']\n",
    "df3 = pd.DataFrame()\n",
    "nodos=kcte['producto']\n",
    "df3['Nodos'] = nodos\n",
    "df3['Tiempos'] = kcte['tiempo']\n",
    "df3['Complejidad (n*k)^2'] = [100 + random.normalvariate(n**2,50) for n in nodos]\n",
    "#plt.clf()\n",
    "correlation = df3.corr()\n",
    "sns.jointplot(df3['Complejidad (n*k)^2'], df3['Tiempos'], kind=\"reg\")\n",
    "sns.plt.show()"
   ]
  },
  {
   "cell_type": "markdown",
   "metadata": {},
   "source": [
    "Lineas de nivel"
   ]
  },
  {
   "cell_type": "code",
   "execution_count": 28,
   "metadata": {},
   "outputs": [
    {
     "data": {
      "text/html": [
       "<div>\n",
       "<table border=\"1\" class=\"dataframe\">\n",
       "  <thead>\n",
       "    <tr style=\"text-align: right;\">\n",
       "      <th></th>\n",
       "      <th>ciudades</th>\n",
       "      <th>tiempo</th>\n",
       "      <th>sqrt</th>\n",
       "    </tr>\n",
       "    <tr>\n",
       "      <th>ciudades</th>\n",
       "      <th></th>\n",
       "      <th></th>\n",
       "      <th></th>\n",
       "    </tr>\n",
       "  </thead>\n",
       "  <tbody>\n",
       "    <tr>\n",
       "      <th>5</th>\n",
       "      <td>5.0</td>\n",
       "      <td>5.989162e+04</td>\n",
       "      <td>232.882178</td>\n",
       "    </tr>\n",
       "    <tr>\n",
       "      <th>10</th>\n",
       "      <td>10.0</td>\n",
       "      <td>5.102018e+05</td>\n",
       "      <td>657.627633</td>\n",
       "    </tr>\n",
       "    <tr>\n",
       "      <th>15</th>\n",
       "      <td>15.0</td>\n",
       "      <td>2.006264e+06</td>\n",
       "      <td>1286.038062</td>\n",
       "    </tr>\n",
       "    <tr>\n",
       "      <th>20</th>\n",
       "      <td>20.0</td>\n",
       "      <td>5.333600e+06</td>\n",
       "      <td>2085.573666</td>\n",
       "    </tr>\n",
       "    <tr>\n",
       "      <th>25</th>\n",
       "      <td>25.0</td>\n",
       "      <td>1.178370e+07</td>\n",
       "      <td>3086.990473</td>\n",
       "    </tr>\n",
       "  </tbody>\n",
       "</table>\n",
       "</div>"
      ],
      "text/plain": [
       "          ciudades        tiempo         sqrt\n",
       "ciudades                                     \n",
       "5              5.0  5.989162e+04   232.882178\n",
       "10            10.0  5.102018e+05   657.627633\n",
       "15            15.0  2.006264e+06  1286.038062\n",
       "20            20.0  5.333600e+06  2085.573666\n",
       "25            25.0  1.178370e+07  3086.990473"
      ]
     },
     "execution_count": 28,
     "metadata": {},
     "output_type": "execute_result"
    }
   ],
   "source": [
    "caso = gral.filter(['ciudades'], axis=1)\n",
    "#calculo el promedio evitando el n y el resultado\n",
    "#se lo inserto a caso con el titulo promedio\n",
    "caso['tiempo']=gral['tiempo']\n",
    "caso['sqrt']=gral['tiempo'].apply(math.sqrt)\n",
    "#agrupo instancias del mismo tamanio y le calculo el promedio\n",
    "agrupar_por_n = caso.groupby(caso['ciudades']).mean()\n",
    "agrupar_por_n.head()"
   ]
  },
  {
   "cell_type": "code",
   "execution_count": 37,
   "metadata": {
    "collapsed": true
   },
   "outputs": [],
   "source": [
    "agrupar_por_n = pd.DataFrame()\n",
    "agrupar_por_n = gral[['producto','tiempo']].groupby(gral['producto']).mean()\n",
    "agrupar_por_n['sqrt']=agrupar_por_n.tiempo.apply(math.sqrt)\n",
    "ax=agrupar_por_n.plot(x='producto', y='sqrt')\n",
    "ax.set_xlabel(\"ciudades * k\",fontsize=12)\n",
    "ax.set_ylabel(\"Tiempos en ns\",fontsize=12)\n",
    "plt.show()"
   ]
  },
  {
   "cell_type": "code",
   "execution_count": null,
   "metadata": {
    "collapsed": true
   },
   "outputs": [],
   "source": []
  }
 ],
 "metadata": {
  "kernelspec": {
   "display_name": "Python 2",
   "language": "python",
   "name": "python2"
  },
  "language_info": {
   "codemirror_mode": {
    "name": "ipython",
    "version": 2
   },
   "file_extension": ".py",
   "mimetype": "text/x-python",
   "name": "python",
   "nbconvert_exporter": "python",
   "pygments_lexer": "ipython2",
   "version": "2.7.9"
  }
 },
 "nbformat": 4,
 "nbformat_minor": 2
}
