{
 "cells": [
  {
   "cell_type": "code",
   "execution_count": 90,
   "metadata": {
    "collapsed": true
   },
   "outputs": [],
   "source": [
    "import pandas as pd\n",
    "import seaborn as sns\n",
    "import matplotlib.pyplot as plt\n",
    "import numpy as np\n",
    "import random\n",
    "import math"
   ]
  },
  {
   "cell_type": "markdown",
   "metadata": {},
   "source": [
    "##Leyendo el archivo de entrada"
   ]
  },
  {
   "cell_type": "code",
   "execution_count": 29,
   "metadata": {},
   "outputs": [
    {
     "data": {
      "text/html": [
       "<div>\n",
       "<table border=\"1\" class=\"dataframe\">\n",
       "  <thead>\n",
       "    <tr style=\"text-align: right;\">\n",
       "      <th></th>\n",
       "      <th>ciudades</th>\n",
       "      <th>k</th>\n",
       "      <th>resultado</th>\n",
       "      <th>tiempo</th>\n",
       "      <th>Unnamed: 4</th>\n",
       "    </tr>\n",
       "  </thead>\n",
       "  <tbody>\n",
       "    <tr>\n",
       "      <th>0</th>\n",
       "      <td>5</td>\n",
       "      <td>0</td>\n",
       "      <td>77</td>\n",
       "      <td>21582</td>\n",
       "      <td>NaN</td>\n",
       "    </tr>\n",
       "    <tr>\n",
       "      <th>1</th>\n",
       "      <td>5</td>\n",
       "      <td>1</td>\n",
       "      <td>40</td>\n",
       "      <td>36529</td>\n",
       "      <td>NaN</td>\n",
       "    </tr>\n",
       "    <tr>\n",
       "      <th>2</th>\n",
       "      <td>5</td>\n",
       "      <td>2</td>\n",
       "      <td>62</td>\n",
       "      <td>50637</td>\n",
       "      <td>NaN</td>\n",
       "    </tr>\n",
       "    <tr>\n",
       "      <th>3</th>\n",
       "      <td>5</td>\n",
       "      <td>3</td>\n",
       "      <td>-1</td>\n",
       "      <td>49798</td>\n",
       "      <td>NaN</td>\n",
       "    </tr>\n",
       "    <tr>\n",
       "      <th>4</th>\n",
       "      <td>5</td>\n",
       "      <td>4</td>\n",
       "      <td>185</td>\n",
       "      <td>79901</td>\n",
       "      <td>NaN</td>\n",
       "    </tr>\n",
       "  </tbody>\n",
       "</table>\n",
       "</div>"
      ],
      "text/plain": [
       "   ciudades  k  resultado  tiempo  Unnamed: 4\n",
       "0         5  0         77   21582         NaN\n",
       "1         5  1         40   36529         NaN\n",
       "2         5  2         62   50637         NaN\n",
       "3         5  3         -1   49798         NaN\n",
       "4         5  4        185   79901         NaN"
      ]
     },
     "execution_count": 29,
     "metadata": {},
     "output_type": "execute_result"
    }
   ],
   "source": [
    "dataset=\"corrida1.dat\"\n",
    "df = pd.read_csv(dataset,delimiter=\";\")\n",
    "df.head()"
   ]
  },
  {
   "cell_type": "code",
   "execution_count": 30,
   "metadata": {},
   "outputs": [
    {
     "data": {
      "text/html": [
       "<div>\n",
       "<table border=\"1\" class=\"dataframe\">\n",
       "  <thead>\n",
       "    <tr style=\"text-align: right;\">\n",
       "      <th></th>\n",
       "      <th>ciudades</th>\n",
       "      <th>k</th>\n",
       "      <th>resultado</th>\n",
       "      <th>tiempo</th>\n",
       "      <th>Unnamed: 4</th>\n",
       "    </tr>\n",
       "  </thead>\n",
       "  <tbody>\n",
       "    <tr>\n",
       "      <th>1</th>\n",
       "      <td>5</td>\n",
       "      <td>1</td>\n",
       "      <td>40</td>\n",
       "      <td>36529</td>\n",
       "      <td>NaN</td>\n",
       "    </tr>\n",
       "    <tr>\n",
       "      <th>6</th>\n",
       "      <td>5</td>\n",
       "      <td>1</td>\n",
       "      <td>18</td>\n",
       "      <td>44002</td>\n",
       "      <td>NaN</td>\n",
       "    </tr>\n",
       "    <tr>\n",
       "      <th>11</th>\n",
       "      <td>5</td>\n",
       "      <td>1</td>\n",
       "      <td>0</td>\n",
       "      <td>43373</td>\n",
       "      <td>NaN</td>\n",
       "    </tr>\n",
       "    <tr>\n",
       "      <th>16</th>\n",
       "      <td>5</td>\n",
       "      <td>1</td>\n",
       "      <td>0</td>\n",
       "      <td>47703</td>\n",
       "      <td>NaN</td>\n",
       "    </tr>\n",
       "    <tr>\n",
       "      <th>21</th>\n",
       "      <td>5</td>\n",
       "      <td>1</td>\n",
       "      <td>214</td>\n",
       "      <td>26960</td>\n",
       "      <td>NaN</td>\n",
       "    </tr>\n",
       "  </tbody>\n",
       "</table>\n",
       "</div>"
      ],
      "text/plain": [
       "    ciudades  k  resultado  tiempo  Unnamed: 4\n",
       "1          5  1         40   36529         NaN\n",
       "6          5  1         18   44002         NaN\n",
       "11         5  1          0   43373         NaN\n",
       "16         5  1          0   47703         NaN\n",
       "21         5  1        214   26960         NaN"
      ]
     },
     "execution_count": 30,
     "metadata": {},
     "output_type": "execute_result"
    }
   ],
   "source": [
    "tabla_k1 = df[df['k'] == 1]\n",
    "tabla_k1.head()"
   ]
  },
  {
   "cell_type": "code",
   "execution_count": 31,
   "metadata": {},
   "outputs": [
    {
     "data": {
      "text/html": [
       "<div>\n",
       "<table border=\"1\" class=\"dataframe\">\n",
       "  <thead>\n",
       "    <tr style=\"text-align: right;\">\n",
       "      <th></th>\n",
       "      <th>ciudades</th>\n",
       "      <th>k</th>\n",
       "      <th>resultado</th>\n",
       "      <th>tiempo</th>\n",
       "      <th>Unnamed: 4</th>\n",
       "    </tr>\n",
       "  </thead>\n",
       "  <tbody>\n",
       "    <tr>\n",
       "      <th>2</th>\n",
       "      <td>5</td>\n",
       "      <td>2</td>\n",
       "      <td>62</td>\n",
       "      <td>50637</td>\n",
       "      <td>NaN</td>\n",
       "    </tr>\n",
       "    <tr>\n",
       "      <th>7</th>\n",
       "      <td>5</td>\n",
       "      <td>2</td>\n",
       "      <td>0</td>\n",
       "      <td>69774</td>\n",
       "      <td>NaN</td>\n",
       "    </tr>\n",
       "    <tr>\n",
       "      <th>12</th>\n",
       "      <td>5</td>\n",
       "      <td>2</td>\n",
       "      <td>-1</td>\n",
       "      <td>42046</td>\n",
       "      <td>NaN</td>\n",
       "    </tr>\n",
       "    <tr>\n",
       "      <th>17</th>\n",
       "      <td>5</td>\n",
       "      <td>2</td>\n",
       "      <td>83</td>\n",
       "      <td>48122</td>\n",
       "      <td>NaN</td>\n",
       "    </tr>\n",
       "    <tr>\n",
       "      <th>22</th>\n",
       "      <td>5</td>\n",
       "      <td>2</td>\n",
       "      <td>181</td>\n",
       "      <td>48123</td>\n",
       "      <td>NaN</td>\n",
       "    </tr>\n",
       "  </tbody>\n",
       "</table>\n",
       "</div>"
      ],
      "text/plain": [
       "    ciudades  k  resultado  tiempo  Unnamed: 4\n",
       "2          5  2         62   50637         NaN\n",
       "7          5  2          0   69774         NaN\n",
       "12         5  2         -1   42046         NaN\n",
       "17         5  2         83   48122         NaN\n",
       "22         5  2        181   48123         NaN"
      ]
     },
     "execution_count": 31,
     "metadata": {},
     "output_type": "execute_result"
    }
   ],
   "source": [
    "tabla_k2 = df[df['k'] == 2]\n",
    "tabla_k2.head()"
   ]
  },
  {
   "cell_type": "markdown",
   "metadata": {},
   "source": [
    "##Comparando con funciones exponenciales"
   ]
  },
  {
   "cell_type": "code",
   "execution_count": 32,
   "metadata": {},
   "outputs": [
    {
     "data": {
      "text/html": [
       "<div>\n",
       "<table border=\"1\" class=\"dataframe\">\n",
       "  <thead>\n",
       "    <tr style=\"text-align: right;\">\n",
       "      <th></th>\n",
       "      <th>ciudades</th>\n",
       "      <th>k</th>\n",
       "      <th>resultado</th>\n",
       "      <th>tiempo</th>\n",
       "      <th>Unnamed: 4</th>\n",
       "    </tr>\n",
       "  </thead>\n",
       "  <tbody>\n",
       "    <tr>\n",
       "      <th>3</th>\n",
       "      <td>5</td>\n",
       "      <td>3</td>\n",
       "      <td>-1</td>\n",
       "      <td>49798</td>\n",
       "      <td>NaN</td>\n",
       "    </tr>\n",
       "    <tr>\n",
       "      <th>8</th>\n",
       "      <td>5</td>\n",
       "      <td>3</td>\n",
       "      <td>0</td>\n",
       "      <td>66142</td>\n",
       "      <td>NaN</td>\n",
       "    </tr>\n",
       "    <tr>\n",
       "      <th>13</th>\n",
       "      <td>5</td>\n",
       "      <td>3</td>\n",
       "      <td>0</td>\n",
       "      <td>98828</td>\n",
       "      <td>NaN</td>\n",
       "    </tr>\n",
       "    <tr>\n",
       "      <th>18</th>\n",
       "      <td>5</td>\n",
       "      <td>3</td>\n",
       "      <td>41</td>\n",
       "      <td>99179</td>\n",
       "      <td>NaN</td>\n",
       "    </tr>\n",
       "    <tr>\n",
       "      <th>23</th>\n",
       "      <td>5</td>\n",
       "      <td>3</td>\n",
       "      <td>50</td>\n",
       "      <td>83812</td>\n",
       "      <td>NaN</td>\n",
       "    </tr>\n",
       "  </tbody>\n",
       "</table>\n",
       "</div>"
      ],
      "text/plain": [
       "    ciudades  k  resultado  tiempo  Unnamed: 4\n",
       "3          5  3         -1   49798         NaN\n",
       "8          5  3          0   66142         NaN\n",
       "13         5  3          0   98828         NaN\n",
       "18         5  3         41   99179         NaN\n",
       "23         5  3         50   83812         NaN"
      ]
     },
     "execution_count": 32,
     "metadata": {},
     "output_type": "execute_result"
    }
   ],
   "source": [
    "tabla_k3 = df[df['k'] == 3]\n",
    "tabla_k3.head()"
   ]
  },
  {
   "cell_type": "code",
   "execution_count": 33,
   "metadata": {},
   "outputs": [
    {
     "data": {
      "text/html": [
       "<div>\n",
       "<table border=\"1\" class=\"dataframe\">\n",
       "  <thead>\n",
       "    <tr style=\"text-align: right;\">\n",
       "      <th></th>\n",
       "      <th>ciudades</th>\n",
       "      <th>k</th>\n",
       "      <th>resultado</th>\n",
       "      <th>tiempo</th>\n",
       "      <th>Unnamed: 4</th>\n",
       "    </tr>\n",
       "  </thead>\n",
       "  <tbody>\n",
       "    <tr>\n",
       "      <th>4</th>\n",
       "      <td>5</td>\n",
       "      <td>4</td>\n",
       "      <td>185</td>\n",
       "      <td>79901</td>\n",
       "      <td>NaN</td>\n",
       "    </tr>\n",
       "    <tr>\n",
       "      <th>9</th>\n",
       "      <td>5</td>\n",
       "      <td>4</td>\n",
       "      <td>0</td>\n",
       "      <td>69564</td>\n",
       "      <td>NaN</td>\n",
       "    </tr>\n",
       "    <tr>\n",
       "      <th>14</th>\n",
       "      <td>5</td>\n",
       "      <td>4</td>\n",
       "      <td>92</td>\n",
       "      <td>108188</td>\n",
       "      <td>NaN</td>\n",
       "    </tr>\n",
       "    <tr>\n",
       "      <th>19</th>\n",
       "      <td>5</td>\n",
       "      <td>4</td>\n",
       "      <td>103</td>\n",
       "      <td>103509</td>\n",
       "      <td>NaN</td>\n",
       "    </tr>\n",
       "    <tr>\n",
       "      <th>24</th>\n",
       "      <td>5</td>\n",
       "      <td>4</td>\n",
       "      <td>85</td>\n",
       "      <td>76549</td>\n",
       "      <td>NaN</td>\n",
       "    </tr>\n",
       "  </tbody>\n",
       "</table>\n",
       "</div>"
      ],
      "text/plain": [
       "    ciudades  k  resultado  tiempo  Unnamed: 4\n",
       "4          5  4        185   79901         NaN\n",
       "9          5  4          0   69564         NaN\n",
       "14         5  4         92  108188         NaN\n",
       "19         5  4        103  103509         NaN\n",
       "24         5  4         85   76549         NaN"
      ]
     },
     "execution_count": 33,
     "metadata": {},
     "output_type": "execute_result"
    }
   ],
   "source": [
    "tabla_k4 = df[df['k'] == 4]\n",
    "tabla_k4.head()"
   ]
  },
  {
   "cell_type": "code",
   "execution_count": 34,
   "metadata": {},
   "outputs": [
    {
     "data": {
      "text/html": [
       "<div>\n",
       "<table border=\"1\" class=\"dataframe\">\n",
       "  <thead>\n",
       "    <tr style=\"text-align: right;\">\n",
       "      <th></th>\n",
       "      <th>ciudades</th>\n",
       "      <th>k</th>\n",
       "      <th>resultado</th>\n",
       "      <th>tiempo</th>\n",
       "      <th>Unnamed: 4</th>\n",
       "    </tr>\n",
       "  </thead>\n",
       "  <tbody>\n",
       "    <tr>\n",
       "      <th>1005</th>\n",
       "      <td>10</td>\n",
       "      <td>5</td>\n",
       "      <td>547</td>\n",
       "      <td>542616</td>\n",
       "      <td>NaN</td>\n",
       "    </tr>\n",
       "    <tr>\n",
       "      <th>1015</th>\n",
       "      <td>10</td>\n",
       "      <td>5</td>\n",
       "      <td>335</td>\n",
       "      <td>446512</td>\n",
       "      <td>NaN</td>\n",
       "    </tr>\n",
       "    <tr>\n",
       "      <th>1025</th>\n",
       "      <td>10</td>\n",
       "      <td>5</td>\n",
       "      <td>0</td>\n",
       "      <td>625591</td>\n",
       "      <td>NaN</td>\n",
       "    </tr>\n",
       "    <tr>\n",
       "      <th>1035</th>\n",
       "      <td>10</td>\n",
       "      <td>5</td>\n",
       "      <td>790</td>\n",
       "      <td>386376</td>\n",
       "      <td>NaN</td>\n",
       "    </tr>\n",
       "    <tr>\n",
       "      <th>1045</th>\n",
       "      <td>10</td>\n",
       "      <td>5</td>\n",
       "      <td>-2147483162</td>\n",
       "      <td>522431</td>\n",
       "      <td>NaN</td>\n",
       "    </tr>\n",
       "  </tbody>\n",
       "</table>\n",
       "</div>"
      ],
      "text/plain": [
       "      ciudades  k   resultado  tiempo  Unnamed: 4\n",
       "1005        10  5         547  542616         NaN\n",
       "1015        10  5         335  446512         NaN\n",
       "1025        10  5           0  625591         NaN\n",
       "1035        10  5         790  386376         NaN\n",
       "1045        10  5 -2147483162  522431         NaN"
      ]
     },
     "execution_count": 34,
     "metadata": {},
     "output_type": "execute_result"
    }
   ],
   "source": [
    "tabla_k5 = df[df['k'] == 5]\n",
    "tabla_k5.head()"
   ]
  },
  {
   "cell_type": "code",
   "execution_count": 82,
   "metadata": {},
   "outputs": [
    {
     "data": {
      "text/html": [
       "<div>\n",
       "<table border=\"1\" class=\"dataframe\">\n",
       "  <thead>\n",
       "    <tr style=\"text-align: right;\">\n",
       "      <th></th>\n",
       "      <th>ciudades</th>\n",
       "      <th>k</th>\n",
       "      <th>resultado</th>\n",
       "      <th>tiempo</th>\n",
       "      <th>Unnamed: 4</th>\n",
       "    </tr>\n",
       "  </thead>\n",
       "  <tbody>\n",
       "    <tr>\n",
       "      <th>3010</th>\n",
       "      <td>15</td>\n",
       "      <td>10</td>\n",
       "      <td>1899</td>\n",
       "      <td>3117408</td>\n",
       "      <td>NaN</td>\n",
       "    </tr>\n",
       "    <tr>\n",
       "      <th>3025</th>\n",
       "      <td>15</td>\n",
       "      <td>10</td>\n",
       "      <td>800</td>\n",
       "      <td>3373944</td>\n",
       "      <td>NaN</td>\n",
       "    </tr>\n",
       "    <tr>\n",
       "      <th>3040</th>\n",
       "      <td>15</td>\n",
       "      <td>10</td>\n",
       "      <td>-2147482263</td>\n",
       "      <td>3030103</td>\n",
       "      <td>NaN</td>\n",
       "    </tr>\n",
       "    <tr>\n",
       "      <th>3055</th>\n",
       "      <td>15</td>\n",
       "      <td>10</td>\n",
       "      <td>2050</td>\n",
       "      <td>2514166</td>\n",
       "      <td>NaN</td>\n",
       "    </tr>\n",
       "    <tr>\n",
       "      <th>3070</th>\n",
       "      <td>15</td>\n",
       "      <td>10</td>\n",
       "      <td>792</td>\n",
       "      <td>3406002</td>\n",
       "      <td>NaN</td>\n",
       "    </tr>\n",
       "  </tbody>\n",
       "</table>\n",
       "</div>"
      ],
      "text/plain": [
       "      ciudades   k   resultado   tiempo  Unnamed: 4\n",
       "3010        15  10        1899  3117408         NaN\n",
       "3025        15  10         800  3373944         NaN\n",
       "3040        15  10 -2147482263  3030103         NaN\n",
       "3055        15  10        2050  2514166         NaN\n",
       "3070        15  10         792  3406002         NaN"
      ]
     },
     "execution_count": 82,
     "metadata": {},
     "output_type": "execute_result"
    }
   ],
   "source": [
    "tabla_k10 = df[df['k'] == 10]\n",
    "tabla_k10.head()"
   ]
  },
  {
   "cell_type": "code",
   "execution_count": 83,
   "metadata": {},
   "outputs": [
    {
     "data": {
      "text/html": [
       "<div>\n",
       "<table border=\"1\" class=\"dataframe\">\n",
       "  <thead>\n",
       "    <tr style=\"text-align: right;\">\n",
       "      <th></th>\n",
       "      <th>ciudades</th>\n",
       "      <th>tiempos</th>\n",
       "      <th>sqrt</th>\n",
       "      <th>cubico</th>\n",
       "      <th>escala</th>\n",
       "    </tr>\n",
       "  </thead>\n",
       "  <tbody>\n",
       "    <tr>\n",
       "      <th>1</th>\n",
       "      <td>5</td>\n",
       "      <td>36529</td>\n",
       "      <td>191.125613</td>\n",
       "      <td>36529</td>\n",
       "      <td>125</td>\n",
       "    </tr>\n",
       "    <tr>\n",
       "      <th>6</th>\n",
       "      <td>5</td>\n",
       "      <td>44002</td>\n",
       "      <td>209.766537</td>\n",
       "      <td>44002</td>\n",
       "      <td>125</td>\n",
       "    </tr>\n",
       "    <tr>\n",
       "      <th>11</th>\n",
       "      <td>5</td>\n",
       "      <td>43373</td>\n",
       "      <td>208.261854</td>\n",
       "      <td>43373</td>\n",
       "      <td>125</td>\n",
       "    </tr>\n",
       "    <tr>\n",
       "      <th>16</th>\n",
       "      <td>5</td>\n",
       "      <td>47703</td>\n",
       "      <td>218.410165</td>\n",
       "      <td>47703</td>\n",
       "      <td>125</td>\n",
       "    </tr>\n",
       "    <tr>\n",
       "      <th>21</th>\n",
       "      <td>5</td>\n",
       "      <td>26960</td>\n",
       "      <td>164.195006</td>\n",
       "      <td>26960</td>\n",
       "      <td>125</td>\n",
       "    </tr>\n",
       "  </tbody>\n",
       "</table>\n",
       "</div>"
      ],
      "text/plain": [
       "    ciudades  tiempos        sqrt  cubico  escala\n",
       "1          5    36529  191.125613   36529     125\n",
       "6          5    44002  209.766537   44002     125\n",
       "11         5    43373  208.261854   43373     125\n",
       "16         5    47703  218.410165   47703     125\n",
       "21         5    26960  164.195006   26960     125"
      ]
     },
     "execution_count": 83,
     "metadata": {},
     "output_type": "execute_result"
    }
   ],
   "source": [
    "tabla_100= tabla_k1[tabla_k1['ciudades'] <= 150]\n",
    "caso = tabla_100.filter(['ciudades'], axis=1)\n",
    "#calculo el promedio evitando el n y el resultado\n",
    "#se lo inserto a caso con el titulo promedio\n",
    "caso['tiempos']=tabla_100.tiempo.values\n",
    "caso['sqrt']=caso.tiempos.apply(math.sqrt)\n",
    "caso['cubico']=caso.tiempos.apply(lambda x: x)\n",
    "caso['escala']=caso.ciudades.apply(lambda x: x**3)\n",
    "\n",
    "#caso['cubico']=caso.promedio.apply(lambda x: x**(1/2))\n",
    "\n",
    "#agrupo instancias del mismo tamanio y le calculo el promedio\n",
    "agrupar_por_n = caso.groupby(tabla_100['ciudades']).mean()\n",
    "caso.head()"
   ]
  },
  {
   "cell_type": "code",
   "execution_count": 84,
   "metadata": {},
   "outputs": [],
   "source": [
    "agrupar_por_n.head()\n",
    "sns.factorplot(x='escala', y='cubico', data=agrupar_por_n)\n",
    "plt.show()"
   ]
  },
  {
   "cell_type": "code",
   "execution_count": 86,
   "metadata": {},
   "outputs": [
    {
     "data": {
      "text/html": [
       "<div>\n",
       "<table border=\"1\" class=\"dataframe\">\n",
       "  <thead>\n",
       "    <tr style=\"text-align: right;\">\n",
       "      <th></th>\n",
       "      <th>ciudades</th>\n",
       "      <th>k</th>\n",
       "      <th>resultado</th>\n",
       "      <th>tiempo</th>\n",
       "      <th>Unnamed: 4</th>\n",
       "      <th>producto</th>\n",
       "    </tr>\n",
       "  </thead>\n",
       "  <tbody>\n",
       "    <tr>\n",
       "      <th>0</th>\n",
       "      <td>5</td>\n",
       "      <td>0</td>\n",
       "      <td>77</td>\n",
       "      <td>21582</td>\n",
       "      <td>NaN</td>\n",
       "      <td>0</td>\n",
       "    </tr>\n",
       "    <tr>\n",
       "      <th>1</th>\n",
       "      <td>5</td>\n",
       "      <td>1</td>\n",
       "      <td>40</td>\n",
       "      <td>36529</td>\n",
       "      <td>NaN</td>\n",
       "      <td>5</td>\n",
       "    </tr>\n",
       "    <tr>\n",
       "      <th>2</th>\n",
       "      <td>5</td>\n",
       "      <td>2</td>\n",
       "      <td>62</td>\n",
       "      <td>50637</td>\n",
       "      <td>NaN</td>\n",
       "      <td>10</td>\n",
       "    </tr>\n",
       "    <tr>\n",
       "      <th>3</th>\n",
       "      <td>5</td>\n",
       "      <td>3</td>\n",
       "      <td>-1</td>\n",
       "      <td>49798</td>\n",
       "      <td>NaN</td>\n",
       "      <td>15</td>\n",
       "    </tr>\n",
       "    <tr>\n",
       "      <th>4</th>\n",
       "      <td>5</td>\n",
       "      <td>4</td>\n",
       "      <td>185</td>\n",
       "      <td>79901</td>\n",
       "      <td>NaN</td>\n",
       "      <td>20</td>\n",
       "    </tr>\n",
       "  </tbody>\n",
       "</table>\n",
       "</div>"
      ],
      "text/plain": [
       "   ciudades  k  resultado  tiempo  Unnamed: 4  producto\n",
       "0         5  0         77   21582         NaN         0\n",
       "1         5  1         40   36529         NaN         5\n",
       "2         5  2         62   50637         NaN        10\n",
       "3         5  3         -1   49798         NaN        15\n",
       "4         5  4        185   79901         NaN        20"
      ]
     },
     "execution_count": 86,
     "metadata": {},
     "output_type": "execute_result"
    }
   ],
   "source": [
    "tabla_nueva=pd.DataFrame()\n",
    "df['producto']=df.ciudades.values*df.k.values\n",
    "df.head()"
   ]
  },
  {
   "cell_type": "code",
   "execution_count": 92,
   "metadata": {},
   "outputs": [
    {
     "name": "stderr",
     "output_type": "stream",
     "text": [
      "/usr/local/lib/python2.7/dist-packages/ipykernel_launcher.py:8: RuntimeWarning: overflow encountered in long_scalars\n",
      "  \n"
     ]
    },
    {
     "data": {
      "text/plain": [
       "<function matplotlib.pyplot.show>"
      ]
     },
     "execution_count": 92,
     "metadata": {},
     "output_type": "execute_result"
    }
   ],
   "source": [
    "df3 = pd.DataFrame()\n",
    "nodos=df.producto\n",
    "df3['Nodos'] = nodos\n",
    "df3['Tiempos'] = df['tiempo']\n",
    "df3['Complejidad (n*k)^2'] = [100 + random.normalvariate(n**2,50) for n in nodos]\n",
    "df3['Complejidad n^3'] = [100 + random.normalvariate(n**3,50) for n in nodos]\n",
    "df3['Complejidad n^4'] = [100 + random.normalvariate(n**4,50) for n in nodos]\n",
    "df3['Complejidad n^5'] = [100 + random.normalvariate(n**5,50) for n in nodos]\n",
    "#plt.clf()\n",
    "correlation = df3.corr()\n",
    "sns.jointplot(df3['Complejidad (n*k)^2'], df3['Tiempos'], kind=\"reg\")\n",
    "sns.plt.show()\n",
    "#plt.clf()\n",
    "correlation = df3.corr()\n",
    "sns.jointplot(df3['Complejidad n^3'], df3['Tiempos'], kind=\"reg\")\n",
    "sns.plt.show()\n",
    "#plt.clf()\n",
    "correlation = df3.corr()\n",
    "sns.jointplot(df3['Complejidad n^4'], df3['Tiempos'], kind=\"reg\")\n",
    "sns.plt.show()\n",
    "#plt.clf()\n",
    "correlation = df3.corr()\n",
    "sns.jointplot(df3['Complejidad n^5'], df3['Tiempos'], kind=\"reg\")\n",
    "sns.plt.show"
   ]
  },
  {
   "cell_type": "code",
   "execution_count": 94,
   "metadata": {},
   "outputs": [
    {
     "data": {
      "text/plain": [
       "<function matplotlib.pyplot.show>"
      ]
     },
     "execution_count": 94,
     "metadata": {},
     "output_type": "execute_result"
    }
   ],
   "source": [
    "df3 = pd.DataFrame()\n",
    "nodos=tabla_k10.ciudades\n",
    "df3['Nodos'] = nodos\n",
    "df3['Tiempos'] = tabla_k10['tiempo']\n",
    "df3['Complejidad n^2'] = [100 + random.normalvariate(n**2,50) for n in nodos]\n",
    "df3['Complejidad n^3'] = [100 + random.normalvariate(n**3,50) for n in nodos]\n",
    "df3['Complejidad n^4'] = [100 + random.normalvariate(n**4,50) for n in nodos]\n",
    "df3['Complejidad n^5'] = [100 + random.normalvariate(n**5,50) for n in nodos]\n",
    "#plt.clf()\n",
    "correlation = df3.corr()\n",
    "sns.jointplot(df3['Complejidad n^2'], df3['Tiempos'], kind=\"reg\")\n",
    "sns.plt.show()\n",
    "#plt.clf()\n",
    "correlation = df3.corr()\n",
    "sns.jointplot(df3['Complejidad n^3'], df3['Tiempos'], kind=\"reg\")\n",
    "sns.plt.show()\n",
    "#plt.clf()\n",
    "correlation = df3.corr()\n",
    "sns.jointplot(df3['Complejidad n^4'], df3['Tiempos'], kind=\"reg\")\n",
    "sns.plt.show()\n",
    "#plt.clf()\n",
    "correlation = df3.corr()\n",
    "sns.jointplot(df3['Complejidad n^5'], df3['Tiempos'], kind=\"reg\")\n",
    "sns.plt.show"
   ]
  },
  {
   "cell_type": "code",
   "execution_count": 121,
   "metadata": {},
   "outputs": [],
   "source": [
    "agrupar_por_n = pd.DataFrame()\n",
    "agrupar_por_n = df[['producto','tiempo']].groupby(df['producto']).mean()\n",
    "agrupar_por_n['sqrt']=agrupar_por_n.tiempo.apply(math.sqrt)\n",
    "agrupar_por_n.head(50)\n",
    "sns.factorplot(x='producto', y='sqrt', data=agrupar_por_n)\n",
    "plt.show()"
   ]
  },
  {
   "cell_type": "code",
   "execution_count": 123,
   "metadata": {},
   "outputs": [
    {
     "data": {
      "text/plain": [
       "<function matplotlib.pyplot.show>"
      ]
     },
     "execution_count": 123,
     "metadata": {},
     "output_type": "execute_result"
    }
   ],
   "source": [
    "tabla_n100=df[df['ciudades'] == 50]\n",
    "df3 = pd.DataFrame()\n",
    "nodos=tabla_n100.ciudades\n",
    "df3['Nodos'] = nodos\n",
    "df3['Tiempos'] = tabla_n100['tiempo']\n",
    "df3['Complejidad n^2'] = [100 + random.normalvariate(n**2,50) for n in nodos]\n",
    "df3['Complejidad n^3'] = [100 + random.normalvariate(n**3,50) for n in nodos]\n",
    "df3['Complejidad n^4'] = [100 + random.normalvariate(n**4,50) for n in nodos]\n",
    "df3['Complejidad n^5'] = [100 + random.normalvariate(n**5,50) for n in nodos]\n",
    "#plt.clf()\n",
    "correlation = df3.corr()\n",
    "sns.jointplot(df3['Complejidad n^2'], df3['Tiempos'], kind=\"reg\")\n",
    "sns.plt.show()\n",
    "#plt.clf()\n",
    "correlation = df3.corr()\n",
    "sns.jointplot(df3['Complejidad n^3'], df3['Tiempos'], kind=\"reg\")\n",
    "sns.plt.show()\n",
    "#plt.clf()\n",
    "correlation = df3.corr()\n",
    "sns.jointplot(df3['Complejidad n^4'], df3['Tiempos'], kind=\"reg\")\n",
    "sns.plt.show()\n",
    "#plt.clf()\n",
    "correlation = df3.corr()\n",
    "sns.jointplot(df3['Complejidad n^5'], df3['Tiempos'], kind=\"reg\")\n",
    "sns.plt.show"
   ]
  },
  {
   "cell_type": "code",
   "execution_count": null,
   "metadata": {
    "collapsed": true
   },
   "outputs": [],
   "source": []
  }
 ],
 "metadata": {
  "kernelspec": {
   "display_name": "Python 2",
   "language": "python",
   "name": "python2"
  },
  "language_info": {
   "codemirror_mode": {
    "name": "ipython",
    "version": 2
   },
   "file_extension": ".py",
   "mimetype": "text/x-python",
   "name": "python",
   "nbconvert_exporter": "python",
   "pygments_lexer": "ipython2",
   "version": "2.7.9"
  }
 },
 "nbformat": 4,
 "nbformat_minor": 2
}
